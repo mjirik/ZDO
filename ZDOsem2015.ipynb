{
 "metadata": {
  "name": ""
 },
 "nbformat": 3,
 "nbformat_minor": 0,
 "worksheets": [
  {
   "cells": [
    {
     "cell_type": "heading",
     "level": 1,
     "metadata": {},
     "source": [
      "Zad\u00e1n\u00ed semestr\u00e1ln\u00ed pr\u00e1ce 2015 - kvasinky"
     ]
    },
    {
     "cell_type": "markdown",
     "metadata": {},
     "source": [
      "C\u00edlem pr\u00e1ce je sledov\u00e1n\u00ed pohybu kvasinek v obrazu z mikroskopu. \u00daloha je rozd\u011blena na dv\u011b \u010d\u00e1sti:\n",
      "\n",
      "* Nalezen\u00ed modelu pozad\u00ed\n",
      "* Sledov\u00e1n\u00ed kvasinek\n",
      "\n",
      "V prvn\u00ed \u010d\u00e1sti jde o nalezen\u00ed pozad\u00ed. To je ve vide\u00edch pom\u011brn\u011b nem\u011bnn\u00e9. Prakticky je nutn\u00e9 naimplementovat t\u0159\u00eddu `BackgroundModel`. \n",
      "\n",
      "Druh\u00e1 \u010d\u00e1st \u0159e\u0161\u00ed vlastn\u00ed sledov\u00e1n\u00ed kvasinek. Tam je \u00fakolem nalezen\u00ed pohybuj\u00edc\u00ed se kvasinky, ur\u010den\u00ed jej\u00ed polohy v pixelech a sm\u011bru jej\u00edho pohybu (p\u0159edpokl\u00e1danou polohu v n\u00e1sleduj\u00edc\u00edm framu)."
     ]
    },
    {
     "cell_type": "markdown",
     "metadata": {},
     "source": [
      "![kvasinky](http://147.228.240.61/zdo/2015/kvasinky-res.png)"
     ]
    },
    {
     "cell_type": "markdown",
     "metadata": {},
     "source": [
      "Data:\n",
      "\n",
      "http://147.228.240.61/zdo/2015/converted/\n",
      "\n",
      "\n",
      "Z\u00e1klad pro semestr\u00e1ln\u00ed pr\u00e1ci\n",
      "http://github.com/neduchal/ZDO2015_sem_prace/"
     ]
    },
    {
     "cell_type": "heading",
     "level": 2,
     "metadata": {},
     "source": [
      "Koment\u00e1\u0159 k prvn\u00ed \u010d\u00e1sti"
     ]
    },
    {
     "cell_type": "markdown",
     "metadata": {},
     "source": [
      "Vyu\u017eijte ji\u017e p\u0159ipraven\u00e9ho z\u00e1kladu pro semestr\u00e1ln\u00ed pr\u00e1ci a dopl\u0148te modul `cast_1/src/model.py`\n",
      "\n",
      "Funkce `add_frame` m\u016f\u017ee b\u00fdt vol\u00e1na nap\u0159\u00edklad pro ka\u017ed\u00fd sn\u00edmek videa a m\u016f\u017eete ji vyu\u017e\u00edvat pro zad\u00e1v\u00e1n\u00ed dat pro tr\u00e9nov\u00e1n\u00ed a zp\u0159es\u0148ov\u00e1n\u00ed modelu.\n",
      "\n",
      "Funkce `get_model` vrac\u00ed model - obr\u00e1zek pozad\u00ed."
     ]
    },
    {
     "cell_type": "heading",
     "level": 2,
     "metadata": {},
     "source": [
      "Pr\u00e1ce s videem"
     ]
    },
    {
     "cell_type": "code",
     "collapsed": false,
     "input": [
      "%pylab inline"
     ],
     "language": "python",
     "metadata": {},
     "outputs": [
      {
       "output_type": "stream",
       "stream": "stdout",
       "text": [
        "Populating the interactive namespace from numpy and matplotlib\n"
       ]
      }
     ],
     "prompt_number": 1
    },
    {
     "cell_type": "code",
     "collapsed": false,
     "input": [
      "# http://147.228.240.61/zdo/2015/converted/"
     ],
     "language": "python",
     "metadata": {},
     "outputs": [],
     "prompt_number": 2
    },
    {
     "cell_type": "code",
     "collapsed": false,
     "input": [
      "import numpy as np\n",
      "import cv2\n",
      "import matplotlib.pyplot as plt"
     ],
     "language": "python",
     "metadata": {},
     "outputs": [],
     "prompt_number": 3
    },
    {
     "cell_type": "code",
     "collapsed": false,
     "input": [
      "cap = cv2.VideoCapture('/home/mjirik/Sta\u017een\u00e9/kvasinky1')\n",
      "\n",
      "while(cap.isOpened()):\n",
      "    ret, frame = cap.read()\n",
      "\n",
      "    gray = cv2.cvtColor(frame, cv2.COLOR_BGR2GRAY)\n",
      "    \n",
      "\n",
      "    cv2.imshow('frame',gray)\n",
      "    if cv2.waitKey(1) & 0xFF == ord('q'):\n",
      "        break\n",
      "# plt.imshow(frame)\n",
      "cap.release()\n",
      "cv2.destroyAllWindows()"
     ],
     "language": "python",
     "metadata": {},
     "outputs": []
    }
   ],
   "metadata": {}
  }
 ]
}