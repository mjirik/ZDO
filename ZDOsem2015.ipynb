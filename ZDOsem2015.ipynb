{
 "metadata": {
  "name": ""
 },
 "nbformat": 3,
 "nbformat_minor": 0,
 "worksheets": [
  {
   "cells": [
    {
     "cell_type": "heading",
     "level": 1,
     "metadata": {},
     "source": [
      "Zad\u00e1n\u00ed semestr\u00e1ln\u00ed pr\u00e1ce 2015 - kvasinky"
     ]
    },
    {
     "cell_type": "markdown",
     "metadata": {},
     "source": [
      "C\u00edlem pr\u00e1ce je sledov\u00e1n\u00ed pohybu kvasinek v obrazu z mikroskopu. \u00daloha je rozd\u011blena na dv\u011b \u010d\u00e1sti:\n",
      "\n",
      "* Nalezen\u00ed modelu pozad\u00ed\n",
      "* Sledov\u00e1n\u00ed kvasinek\n",
      "\n",
      "V prvn\u00ed \u010d\u00e1sti jde o nalezen\u00ed pozad\u00ed. To je ve vide\u00edch pom\u011brn\u011b nem\u011bnn\u00e9. Prakticky je nutn\u00e9 naimplementovat t\u0159\u00eddu `BackgroundModel`. \n",
      "\n",
      "Druh\u00e1 \u010d\u00e1st \u0159e\u0161\u00ed vlastn\u00ed sledov\u00e1n\u00ed kvasinek. Tam je \u00fakolem nalezen\u00ed pohybuj\u00edc\u00ed se kvasinky, ur\u010den\u00ed jej\u00ed polohy v pixelech a sm\u011bru jej\u00edho pohybu (p\u0159edpokl\u00e1danou polohu v n\u00e1sleduj\u00edc\u00edm framu)."
     ]
    },
    {
     "cell_type": "markdown",
     "metadata": {},
     "source": [
      "Data:\n",
      "\n",
      "http://147.228.240.61/zdo/2015/converted/\n",
      "\n",
      "\n",
      "Z\u00e1klad pro semestr\u00e1ln\u00ed pr\u00e1ci\n",
      "http://github.com/neduchal/ZDO2015_sem_prace/"
     ]
    },
    {
     "cell_type": "code",
     "collapsed": false,
     "input": [
      "%pylab inline"
     ],
     "language": "python",
     "metadata": {},
     "outputs": [
      {
       "output_type": "stream",
       "stream": "stdout",
       "text": [
        "Populating the interactive namespace from numpy and matplotlib\n"
       ]
      }
     ],
     "prompt_number": 1
    },
    {
     "cell_type": "code",
     "collapsed": false,
     "input": [
      "# http://147.228.240.61/zdo/2015/converted/"
     ],
     "language": "python",
     "metadata": {},
     "outputs": [],
     "prompt_number": 2
    },
    {
     "cell_type": "code",
     "collapsed": false,
     "input": [
      "import numpy as np\n",
      "import cv2\n",
      "import matplotlib.pyplot as plt"
     ],
     "language": "python",
     "metadata": {},
     "outputs": [],
     "prompt_number": 3
    },
    {
     "cell_type": "code",
     "collapsed": false,
     "input": [
      "cap = cv2.VideoCapture('/home/mjirik/tmp/kvasinky1')\n",
      "ret, frame = cap.read()\n",
      "ret, frame = cap.read()\n",
      "# gray = cv2.cvtColor(frame, cv2.COLOR_BGR2GRAY)\n",
      "# plt.imshow(frame)\n",
      "cv2.imshow('frame',frame)"
     ],
     "language": "python",
     "metadata": {},
     "outputs": [
      {
       "ename": "error",
       "evalue": "/build/buildd/opencv-2.4.8+dfsg1/modules/highgui/src/window.cpp:269: error: (-215) size.width>0 && size.height>0 in function imshow\n",
       "output_type": "pyerr",
       "traceback": [
        "\u001b[0;31m---------------------------------------------------------------------------\u001b[0m\n\u001b[0;31merror\u001b[0m                                     Traceback (most recent call last)",
        "\u001b[0;32m<ipython-input-4-787a9845357c>\u001b[0m in \u001b[0;36m<module>\u001b[0;34m()\u001b[0m\n\u001b[1;32m      4\u001b[0m \u001b[0;31m# gray = cv2.cvtColor(frame, cv2.COLOR_BGR2GRAY)\u001b[0m\u001b[0;34m\u001b[0m\u001b[0;34m\u001b[0m\u001b[0m\n\u001b[1;32m      5\u001b[0m \u001b[0;31m# plt.imshow(frame)\u001b[0m\u001b[0;34m\u001b[0m\u001b[0;34m\u001b[0m\u001b[0m\n\u001b[0;32m----> 6\u001b[0;31m \u001b[0mcv2\u001b[0m\u001b[0;34m.\u001b[0m\u001b[0mimshow\u001b[0m\u001b[0;34m(\u001b[0m\u001b[0;34m'frame'\u001b[0m\u001b[0;34m,\u001b[0m\u001b[0mframe\u001b[0m\u001b[0;34m)\u001b[0m\u001b[0;34m\u001b[0m\u001b[0m\n\u001b[0m",
        "\u001b[0;31merror\u001b[0m: /build/buildd/opencv-2.4.8+dfsg1/modules/highgui/src/window.cpp:269: error: (-215) size.width>0 && size.height>0 in function imshow\n"
       ]
      }
     ],
     "prompt_number": 4
    },
    {
     "cell_type": "code",
     "collapsed": false,
     "input": [
      "# frame"
     ],
     "language": "python",
     "metadata": {},
     "outputs": []
    },
    {
     "cell_type": "code",
     "collapsed": false,
     "input": [],
     "language": "python",
     "metadata": {},
     "outputs": []
    },
    {
     "cell_type": "code",
     "collapsed": false,
     "input": [
      "cap = cv2.VideoCapture('/home/mjirik/Sta\u017een\u00e9/kvasinky1')\n",
      "\n",
      "while(cap.isOpened()):\n",
      "    ret, frame = cap.read()\n",
      "\n",
      "    gray = cv2.cvtColor(frame, cv2.COLOR_BGR2GRAY)\n",
      "    \n",
      "\n",
      "    cv2.imshow('frame',gray)\n",
      "    if cv2.waitKey(1) & 0xFF == ord('q'):\n",
      "        break\n",
      "# plt.imshow(frame)\n",
      "cap.release()\n",
      "cv2.destroyAllWindows()"
     ],
     "language": "python",
     "metadata": {},
     "outputs": []
    }
   ],
   "metadata": {}
  }
 ]
}