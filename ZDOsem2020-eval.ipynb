{
 "cells": [
  {
   "cell_type": "code",
   "execution_count": 1,
   "metadata": {},
   "outputs": [
    {
     "name": "stdout",
     "output_type": "stream",
     "text": [
      "Populating the interactive namespace from numpy and matplotlib\n"
     ]
    },
    {
     "data": {
      "text/plain": [
       "'0.25.3'"
      ]
     },
     "execution_count": 1,
     "metadata": {},
     "output_type": "execute_result"
    }
   ],
   "source": [
    "%pylab inline\n",
    "import skimage\n",
    "from skimage.io import imread\n",
    "import cv2\n",
    "from pathlib import Path\n",
    "import pandas as pd\n",
    "import seaborn as sns\n",
    "pd.__version__"
   ]
  },
  {
   "cell_type": "markdown",
   "metadata": {},
   "source": [
    " ## Uložení do souboru"
   ]
  },
  {
   "cell_type": "code",
   "execution_count": 69,
   "metadata": {},
   "outputs": [],
   "source": [
    "ann_fn = Path(\"annotation.xlsx\")\n",
    "sheet_name = \"Sheet1\"\n",
    "if ann_fn.exists():\n",
    "    dfold = pd.read_excel(str(ann_fn), sheet_name=sheet_name)\n",
    "        # dfout = pd.concat([dfin, df], axis=0, ignore_index=True)\n",
    "    dfcombine = dfold.append(df_one_video, ignore_index=True, sort=True)\n",
    "    dfcombine.to_excel(str(ann_fn), sheet_name=sheet_name, index=False)\n",
    "else:\n",
    "    df_one_video.to_excel(ann_fn, index=False, sheet_name=sheet_name)\n",
    "    "
   ]
  },
  {
   "cell_type": "code",
   "execution_count": 82,
   "metadata": {},
   "outputs": [
    {
     "data": {
      "text/plain": [
       "'2020-03-18 18:33:54.220918'"
      ]
     },
     "execution_count": 82,
     "metadata": {},
     "output_type": "execute_result"
    }
   ],
   "source": []
  },
  {
   "cell_type": "markdown",
   "metadata": {},
   "source": [
    "# Návrh\n",
    "\n",
    "* Limity\n",
    "* Požadované vstupy\n",
    "* Návrh API"
   ]
  },
  {
   "cell_type": "markdown",
   "metadata": {},
   "source": [
    "# Dodatečné informace\n",
    " * Rozměr boxu je 180x110 cm"
   ]
  },
  {
   "cell_type": "markdown",
   "metadata": {},
   "source": [
    "# Vyhodnocení"
   ]
  },
  {
   "cell_type": "code",
   "execution_count": 2,
   "metadata": {},
   "outputs": [],
   "source": [
    "df_algorithm = pd.DataFrame(dict(\n",
    "#     filename=[\"zverinec02-006.mp4\"]*8,\n",
    "    filename=[\"zverinec02-004.mp4\"]*8,\n",
    "    frame_id=[1, 3, 30, 50, 70,100, 203, 280],\n",
    "    animal_id=[0, 1, 1, 1, 1, 0, 0, 0],\n",
    "    x_px=[450, 460, 470, 500, 520, 455, 460, 500],\n",
    "    y_px=[430, 440, 390, 385, 380, 425, 410, 400],\n",
    "))"
   ]
  },
  {
   "cell_type": "code",
   "execution_count": 3,
   "metadata": {},
   "outputs": [
    {
     "data": {
      "text/plain": [
       "<matplotlib.axes._subplots.AxesSubplot at 0x254177027f0>"
      ]
     },
     "execution_count": 3,
     "metadata": {},
     "output_type": "execute_result"
    },
    {
     "data": {
      "image/png": "[encoded data removed]",
      "text/plain": [
       "<Figure size 432x288 with 1 Axes>"
      ]
     },
     "metadata": {
      "needs_background": "light"
     },
     "output_type": "display_data"
    }
   ],
   "source": [
    "sns.lineplot(data=df_algorithm, x=\"x_px\", y=\"y_px\",hue=\"animal_id\", sort=False)"
   ]
  },
  {
   "cell_type": "code",
   "execution_count": 3,
   "metadata": {},
   "outputs": [
    {
     "name": "stdout",
     "output_type": "stream",
     "text": [
      "562\n"
     ]
    },
    {
     "data": {
      "text/html": [
       "<div>\n",
       "<style scoped>\n",
       "    .dataframe tbody tr th:only-of-type {\n",
       "        vertical-align: middle;\n",
       "    }\n",
       "\n",
       "    .dataframe tbody tr th {\n",
       "        vertical-align: top;\n",
       "    }\n",
       "\n",
       "    .dataframe thead th {\n",
       "        text-align: right;\n",
       "    }\n",
       "</style>\n",
       "<table border=\"1\" class=\"dataframe\">\n",
       "  <thead>\n",
       "    <tr style=\"text-align: right;\">\n",
       "      <th></th>\n",
       "      <th>filename</th>\n",
       "      <th>frame_id</th>\n",
       "      <th>animal_id</th>\n",
       "      <th>x_px</th>\n",
       "      <th>y_px</th>\n",
       "    </tr>\n",
       "  </thead>\n",
       "  <tbody>\n",
       "    <tr>\n",
       "      <th>0</th>\n",
       "      <td>zverinec02-004.mp4</td>\n",
       "      <td>0</td>\n",
       "      <td>0</td>\n",
       "      <td>450.000000</td>\n",
       "      <td>430.000000</td>\n",
       "    </tr>\n",
       "    <tr>\n",
       "      <th>1</th>\n",
       "      <td>zverinec02-004.mp4</td>\n",
       "      <td>1</td>\n",
       "      <td>0</td>\n",
       "      <td>450.000000</td>\n",
       "      <td>430.000000</td>\n",
       "    </tr>\n",
       "    <tr>\n",
       "      <th>2</th>\n",
       "      <td>zverinec02-004.mp4</td>\n",
       "      <td>2</td>\n",
       "      <td>0</td>\n",
       "      <td>450.461680</td>\n",
       "      <td>430.067749</td>\n",
       "    </tr>\n",
       "    <tr>\n",
       "      <th>3</th>\n",
       "      <td>zverinec02-004.mp4</td>\n",
       "      <td>3</td>\n",
       "      <td>0</td>\n",
       "      <td>450.684340</td>\n",
       "      <td>430.098489</td>\n",
       "    </tr>\n",
       "    <tr>\n",
       "      <th>4</th>\n",
       "      <td>zverinec02-004.mp4</td>\n",
       "      <td>4</td>\n",
       "      <td>0</td>\n",
       "      <td>450.901618</td>\n",
       "      <td>430.127154</td>\n",
       "    </tr>\n",
       "    <tr>\n",
       "      <th>...</th>\n",
       "      <td>...</td>\n",
       "      <td>...</td>\n",
       "      <td>...</td>\n",
       "      <td>...</td>\n",
       "      <td>...</td>\n",
       "    </tr>\n",
       "    <tr>\n",
       "      <th>557</th>\n",
       "      <td>zverinec02-004.mp4</td>\n",
       "      <td>276</td>\n",
       "      <td>1</td>\n",
       "      <td>520.000000</td>\n",
       "      <td>380.000000</td>\n",
       "    </tr>\n",
       "    <tr>\n",
       "      <th>558</th>\n",
       "      <td>zverinec02-004.mp4</td>\n",
       "      <td>277</td>\n",
       "      <td>1</td>\n",
       "      <td>520.000000</td>\n",
       "      <td>380.000000</td>\n",
       "    </tr>\n",
       "    <tr>\n",
       "      <th>559</th>\n",
       "      <td>zverinec02-004.mp4</td>\n",
       "      <td>278</td>\n",
       "      <td>1</td>\n",
       "      <td>520.000000</td>\n",
       "      <td>380.000000</td>\n",
       "    </tr>\n",
       "    <tr>\n",
       "      <th>560</th>\n",
       "      <td>zverinec02-004.mp4</td>\n",
       "      <td>279</td>\n",
       "      <td>1</td>\n",
       "      <td>520.000000</td>\n",
       "      <td>380.000000</td>\n",
       "    </tr>\n",
       "    <tr>\n",
       "      <th>561</th>\n",
       "      <td>zverinec02-004.mp4</td>\n",
       "      <td>280</td>\n",
       "      <td>1</td>\n",
       "      <td>520.000000</td>\n",
       "      <td>380.000000</td>\n",
       "    </tr>\n",
       "  </tbody>\n",
       "</table>\n",
       "<p>562 rows × 5 columns</p>\n",
       "</div>"
      ],
      "text/plain": [
       "               filename  frame_id  animal_id        x_px        y_px\n",
       "0    zverinec02-004.mp4         0          0  450.000000  430.000000\n",
       "1    zverinec02-004.mp4         1          0  450.000000  430.000000\n",
       "2    zverinec02-004.mp4         2          0  450.461680  430.067749\n",
       "3    zverinec02-004.mp4         3          0  450.684340  430.098489\n",
       "4    zverinec02-004.mp4         4          0  450.901618  430.127154\n",
       "..                  ...       ...        ...         ...         ...\n",
       "557  zverinec02-004.mp4       276          1  520.000000  380.000000\n",
       "558  zverinec02-004.mp4       277          1  520.000000  380.000000\n",
       "559  zverinec02-004.mp4       278          1  520.000000  380.000000\n",
       "560  zverinec02-004.mp4       279          1  520.000000  380.000000\n",
       "561  zverinec02-004.mp4       280          1  520.000000  380.000000\n",
       "\n",
       "[562 rows x 5 columns]"
      ]
     },
     "execution_count": 3,
     "metadata": {},
     "output_type": "execute_result"
    },
    {
     "data": {
      "image/png": "[encoded data removed]",
      "text/plain": [
       "<Figure size 432x288 with 1 Axes>"
      ]
     },
     "metadata": {
      "needs_background": "light"
     },
     "output_type": "display_data"
    }
   ],
   "source": [
    "from typing import Optional\n",
    "\n",
    "def interpolate_px(df_algorithm:pd.DataFrame, n_frames:Optional[int]=None, n_animals:Optional[int]=None, order:int=3) -> pd.DataFrame:\n",
    "    if n_frames:\n",
    "        l = n_frames\n",
    "    else:\n",
    "        l = np.max(df_algorithm.frame_id) + 1\n",
    "    if not n_animals:\n",
    "        n_animals = np.max(df_algorithm.animal_id)\n",
    "    df_interpolated = pd.DataFrame()\n",
    "\n",
    "    for fn_i in df_algorithm.filename.unique():\n",
    "        for animal_id_i in range(0, n_animals+1):\n",
    "            df_append = pd.DataFrame(dict(\n",
    "                filename=[fn_i] * l,\n",
    "                frame_id=list(range(l)),\n",
    "                animal_id=[animal_id_i] * l,\n",
    "                x_px=[np.nan] * l,\n",
    "                y_px=[np.nan] * l,\n",
    "            ))\n",
    "\n",
    "            one_to_append = df_algorithm[\n",
    "                (df_algorithm.animal_id==animal_id_i) & (df_algorithm.filename==fn_i)\n",
    "            ].append(df_append).sort_values(\n",
    "                by=[\"frame_id\", \"y_px\"]\n",
    "            ).reset_index(drop=True).drop_duplicates( \n",
    "                \"frame_id\" \n",
    "            ).interpolate( # this is not putting data in front or to the back\n",
    "                    method='polynomial', order=order,\n",
    "    #                 limit_area=None,limit_direction=\"forward\"\n",
    "            ).interpolate( # this will fill the data\n",
    "                limit_area=None,limit_direction=\"backward\"\n",
    "            ).interpolate(\n",
    "                limit_area=None,limit_direction=\"forward\"\n",
    "            )\n",
    "\n",
    "            df_interpolated = df_interpolated.append(\n",
    "                one_to_append, sort=False\n",
    "            )\n",
    "    df_interpolated = df_interpolated.sort_values(by=[\"filename\" ,  \"animal_id\", \"frame_id\", ]).reset_index(drop=True)\n",
    "    return df_interpolated\n",
    "\n",
    "df_interpolated = interpolate_px(df_algorithm)\n",
    "sns.lineplot(data=df_interpolated, x=\"x_px\", y=\"y_px\",hue=\"animal_id\", sort=False)\n",
    "\n",
    "print(len(df_interpolated))\n",
    "\n",
    "df_interpolated\n",
    "# one_to_append"
   ]
  },
  {
   "cell_type": "code",
   "execution_count": 4,
   "metadata": {},
   "outputs": [
    {
     "data": {
      "text/plain": [
       "array(['zverinec01-001.mp4', 'zverinec01-002.mp4', 'zverinec01-003.mp4',\n",
       "       'zverinec01-004.mp4', 'zverinec01-005.mp4', 'zverinec01-006.mp4',\n",
       "       'zverinec01-007.mp4', 'zverinec01-008.mp4', 'zverinec01-009.mp4',\n",
       "       'zverinec01-010.mp4', 'zverinec01-011.mp4', 'zverinec01-021.mp4',\n",
       "       'zverinec01-022.mp4', 'zverinec01-023.mp4', 'zverinec01-024.mp4',\n",
       "       'zverinec01-025.mp4', 'zverinec01-026.mp4', 'zverinec01-027.mp4',\n",
       "       'zverinec01-028.mp4', 'zverinec01-029.mp4', 'zverinec01-030.mp4',\n",
       "       'zverinec02-001.mp4', 'zverinec02-002.mp4', 'zverinec02-003.mp4',\n",
       "       'zverinec02-004.mp4', 'zverinec02-009.mp4', 'zverinec02-010.mp4',\n",
       "       'zverinec02-011.mp4', 'zverinec02-012.mp4'], dtype=object)"
      ]
     },
     "execution_count": 4,
     "metadata": {},
     "output_type": "execute_result"
    }
   ],
   "source": [
    "df_anns = pd.read_excel(\"G:/Můj disk/data/medical/orig/zverinec-top-view/annotations/annotations.xlsx\")\n",
    "df_anns.sort_values(\"filename\").filename.unique()"
   ]
  },
  {
   "cell_type": "code",
   "execution_count": 5,
   "metadata": {},
   "outputs": [],
   "source": [
    "import contextlib\n",
    "with contextlib.redirect_stdout(None):\n",
    "   import pixiedust"
   ]
  },
  {
   "cell_type": "code",
   "execution_count": 6,
   "metadata": {
    "pixiedust": {
     "displayParams": {}
    }
   },
   "outputs": [
    {
     "data": {
      "text/html": [
       "<style type=\"text/css\">.pd_warning{display:none;}</style><div class=\"pd_warning\"><em>Hey, there's something awesome here! To see it, open this notebook outside GitHub, in a viewer like Jupyter</em></div>"
      ],
      "text/plain": [
       "<IPython.core.display.HTML object>"
      ]
     },
     "metadata": {
      "pixieapp_metadata": null
     },
     "output_type": "display_data"
    }
   ],
   "source": [
    "%%pixie_debugger\n",
    "fn_un = df_algorithm.filename.unique()\n",
    "fn_un"
   ]
  },
  {
   "cell_type": "code",
   "execution_count": 21,
   "metadata": {
    "pixiedust": {
     "displayParams": {}
    }
   },
   "outputs": [
    {
     "data": {
      "text/html": [
       "<div>\n",
       "<style scoped>\n",
       "    .dataframe tbody tr th:only-of-type {\n",
       "        vertical-align: middle;\n",
       "    }\n",
       "\n",
       "    .dataframe tbody tr th {\n",
       "        vertical-align: top;\n",
       "    }\n",
       "\n",
       "    .dataframe thead th {\n",
       "        text-align: right;\n",
       "    }\n",
       "</style>\n",
       "<table border=\"1\" class=\"dataframe\">\n",
       "  <thead>\n",
       "    <tr style=\"text-align: right;\">\n",
       "      <th></th>\n",
       "      <th>filename</th>\n",
       "      <th>animal_id</th>\n",
       "      <th>dist_max</th>\n",
       "      <th>dist_std</th>\n",
       "      <th>dist_mean</th>\n",
       "    </tr>\n",
       "  </thead>\n",
       "  <tbody>\n",
       "    <tr>\n",
       "      <th>0</th>\n",
       "      <td>zverinec02-004.mp4</td>\n",
       "      <td>0</td>\n",
       "      <td>228.093900</td>\n",
       "      <td>50.802342</td>\n",
       "      <td>90.113597</td>\n",
       "    </tr>\n",
       "    <tr>\n",
       "      <th>1</th>\n",
       "      <td>zverinec02-004.mp4</td>\n",
       "      <td>1</td>\n",
       "      <td>233.740627</td>\n",
       "      <td>24.954252</td>\n",
       "      <td>138.020388</td>\n",
       "    </tr>\n",
       "  </tbody>\n",
       "</table>\n",
       "</div>"
      ],
      "text/plain": [
       "             filename  animal_id    dist_max   dist_std   dist_mean\n",
       "0  zverinec02-004.mp4          0  228.093900  50.802342   90.113597\n",
       "1  zverinec02-004.mp4          1  233.740627  24.954252  138.020388"
      ]
     },
     "execution_count": 21,
     "metadata": {},
     "output_type": "execute_result"
    }
   ],
   "source": [
    "# %%pixie_debugger\n",
    "# fn_i = 0\n",
    "\n",
    "def dist_eval(df_gt, df_algorighm):\n",
    "    df_anns = df_gt\n",
    "    fns = []\n",
    "    dst_max = []\n",
    "    dst_std = []\n",
    "    dst_mean = []\n",
    "    anim_ids = []\n",
    "    debug_per = []\n",
    "    for fn in df_algorithm.filename.unique():\n",
    "        df_anns_sel = df_anns[df_anns.filename==fn]\n",
    "        n_frames = maximum(np.max(df_anns_sel.frame_id), np.max(df_algorithm.frame_id)) + 1\n",
    "        n_animals= maximum(np.max(df_anns_sel.animal_id), np.max(df_algorithm.animal_id)) + 1\n",
    "\n",
    "        anim_i = 0\n",
    "        anim_j = 0\n",
    "\n",
    "        df_an_s_fn = interpolate_px(df_anns[(df_anns.filename == fn)], n_frames=n_frames, n_animals=n_animals)\n",
    "        df_al_s_fn = interpolate_px(df_algorithm[(df_algorithm.filename == fn)], n_frames=n_frames, n_animals=n_animals)\n",
    "        for anim_i in range(n_animals):\n",
    "            dist_mean = None\n",
    "            dist_min = 0\n",
    "            dist_std = 0\n",
    "            for anim_j in range(n_animals):\n",
    "\n",
    "                df_an_s = df_an_s_fn[(df_an_s_fn.animal_id==anim_j)]\n",
    "                df_al_s = df_al_s_fn[(df_al_s_fn.animal_id==anim_i)]\n",
    "\n",
    "                per_fram_dist = ((df_an_s.x_px - df_al_s.x_px)**2 + (df_an_s.y_px - df_al_s.y_px)**2)**0.5\n",
    "                debug_per.append(per_fram_dist)\n",
    "\n",
    "                mn = np.mean(per_fram_dist)\n",
    "#                 print(f\"mn={mn} , {type(mn)} {mn is nan}\")\n",
    "\n",
    "                if mn is not np.nan:\n",
    "                    if dist_mean is None:\n",
    "                        dist_mean = np.mean(per_fram_dist)\n",
    "                        dist_std = np.std(per_fram_dist)\n",
    "                        dist_max = np.max(per_fram_dist)\n",
    "    #                     print(f\"dist_mean={dist_mean} in init\")\n",
    "                    else:\n",
    "                        if mn < dist_mean:\n",
    "                            dist_mean = np.mean(per_fram_dist)\n",
    "                            dist_std = np.std(per_fram_dist)\n",
    "                            dist_max = np.max(per_fram_dist)\n",
    "    #                         print(f\"dist_mean={dist_mean} in else\")\n",
    "            fns.append(fn)\n",
    "            dst_max.append(dist_max)\n",
    "            dst_std.append(dist_std)\n",
    "            dst_mean.append(dist_mean)\n",
    "    #         print(f\"dist_mean={dist_mean}\")\n",
    "            anim_ids.append(anim_i)\n",
    "\n",
    "    df = pd.DataFrame(dict(filename=fns, animal_id=anim_ids, dist_max=dst_max, dist_std=dst_std, dist_mean=dst_mean))\n",
    "    return df\n",
    "\n",
    "dist_eval(df_anns, df_algorithm)"
   ]
  },
  {
   "cell_type": "markdown",
   "metadata": {},
   "source": [
    "## vyhodnocení neznámého algoritmu"
   ]
  },
  {
   "cell_type": "code",
   "execution_count": null,
   "metadata": {},
   "outputs": [],
   "source": [
    "df_alg = pd.read_excel()\n",
    "\n",
    "dist_eval(df_anns, df_alg)"
   ]
  }
 ],
 "metadata": {
  "@webio": {
   "lastCommId": null,
   "lastKernelId": null
  },
  "kernelspec": {
   "display_name": "Python 3",
   "language": "python",
   "name": "python3"
  },
  "language_info": {
   "codemirror_mode": {
    "name": "ipython",
    "version": 3
   },
   "file_extension": ".py",
   "mimetype": "text/x-python",
   "name": "python",
   "nbconvert_exporter": "python",
   "pygments_lexer": "ipython3",
   "version": "3.6.6"
  },
  "toc": {
   "base_numbering": 1,
   "nav_menu": {},
   "number_sections": true,
   "sideBar": true,
   "skip_h1_title": false,
   "title_cell": "Table of Contents",
   "title_sidebar": "Contents",
   "toc_cell": false,
   "toc_position": {},
   "toc_section_display": true,
   "toc_window_display": true
  }
 },
 "nbformat": 4,
 "nbformat_minor": 2
}
