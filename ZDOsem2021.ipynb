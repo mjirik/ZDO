{
 "cells": [
  {
   "cell_type": "markdown",
   "metadata": {},
   "source": [
    "# Varoáza\n",
    "\n",
    "\n",
    "Původcem je cizopasník [kleštík (varoa destructor)](https://cs.wikipedia.org/wiki/Kle%C5%A1t%C3%ADk_v%C4%8Del%C3%AD).\n",
    "\n",
    "<img src=https://d3i71xaburhd42.cloudfront.net/8d4c70e61c08bd2add90c9e384272e2c9a8aed06/3-Figure1-1.png>\n",
    " The normal composition of a Varroa family within a honey bee worker brood cell, approximately 11 days after the capping of the brood cell. Upper row from left to right: Protonymph, deutonymph, deutochrysalis. Lower row from left to right: freshly moulted young female, mother mite, adult male\n",
    "</img>\n",
    "\n",
    "\n",
    "Peter Rosenkranz, Pia Aumeier, Bettina Ziegelmann,\n",
    "Biology and control of Varroa destructor,\n",
    "Journal of Invertebrate Pathology,\n",
    "Volume 103, Supplement,\n",
    "2010,\n",
    "Pages S96-S119,\n",
    "ISSN 0022-2011,\n",
    "[https://doi.org/10.1016/j.jip.2009.07.016](https://doi.org/10.1016/j.jip.2009.07.016)\n",
    "\n",
    "\n",
    "\n",
    "# Naše data\n",
    "\n",
    "\n",
    "Vstupní data představuje snímek směsného odpadu ze dna úlu (tzv. měl)\n",
    "\n",
    "<img src=graphics/varoaza01.png width=900>Celek snímku směsného odpadu</img>\n",
    "\n",
    "\n",
    "<img src=graphics/varoaza02.png width=900>Detail</img>\n",
    "\n",
    "# Anotace\n",
    "\n",
    "Pomocí nástroje [CVAT na adrese 147.228.124.52:8080/](http://147.228.124.52:8080/).\n",
    "Podrobnou nápovědu naleznete na [stránkách aplikace CVAT](https://cvat.org/documentation/user_guide.html)\n",
    "\n",
    "Ve zkratce:\n",
    "\n",
    "* registrujte se\n",
    "* pošlete nám svůj login, bude vám přiřazen job\n",
    "* vyberte task a job\n",
    "* anotujte pomocí Draw new polygon -> Shape\n",
    "* klávesou 'n' se anotace ukončí\n",
    "* držením klávesy 'Shift' se body umisťují v automatické vzdálenosti několika pixelů\n",
    "\n",
    "<img src=graphics/varoaza03.png width=900>\n",
    "\n",
    "\n",
    "\n",
    "\n"
   ]
  },
  {
   "cell_type": "markdown",
   "metadata": {},
   "source": [
    "# Vyhodnocení\n",
    "\n",
    "\n",
    "# Odevzdání\n",
    "\n",
    "* ve formě git repozitáře\n",
    "* dokumentace na gitu (jména autorů ideálně v readme.md)\n",
    "* spustitelný automatický test - viz [šablona, kterou můžete využít](https://github.com/mjirik/ZDO2021)"
   ]
  },
  {
   "cell_type": "code",
   "execution_count": null,
   "metadata": {},
   "outputs": [],
   "source": []
  }
 ],
 "metadata": {
  "kernelspec": {
   "display_name": "Julia 1.1.0",
   "language": "julia",
   "name": "julia-1.1"
  },
  "language_info": {
   "file_extension": ".jl",
   "mimetype": "application/julia",
   "name": "julia",
   "version": "1.1.0"
  },
  "toc": {
   "base_numbering": 1,
   "nav_menu": {},
   "number_sections": true,
   "sideBar": true,
   "skip_h1_title": false,
   "title_cell": "Table of Contents",
   "title_sidebar": "Contents",
   "toc_cell": false,
   "toc_position": {},
   "toc_section_display": true,
   "toc_window_display": true
  }
 },
 "nbformat": 4,
 "nbformat_minor": 2
}
