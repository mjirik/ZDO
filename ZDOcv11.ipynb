{
 "metadata": {
  "name": "",
  "signature": "sha256:b160d7221db663d2279ee60e5a2ba5ceab10bc4c40f816794770c1200d3da678"
 },
 "nbformat": 3,
 "nbformat_minor": 0,
 "worksheets": [
  {
   "cells": [
    {
     "cell_type": "heading",
     "level": 1,
     "metadata": {},
     "source": [
      "3D vid\u011bn\u00ed"
     ]
    },
    {
     "cell_type": "markdown",
     "metadata": {},
     "source": [
      "Pro trojrozm\u011brn\u00e9 vid\u011bn\u00ed jsou pot\u0159ebn\u00e9 dva pohledy. Syst\u00e9m zrcadel zaji\u0161\u0165uj\u00edc\u00ed dva r\u016fzn\u00e9 pohledy (stereo-vid\u011bn\u00ed)\n",
      "\n",
      "![sch\u00e9ma z\u00edsk\u00e1n\u00ed dvou obraz\u016f pomoc\u00ed jedn\u00e9 kamery a soustavy zrcadel](http://www.kky.zcu.cz/uploads/courses/zdo/lesson9/stereozaznam.jpg)\n",
      "\n",
      "\n",
      "kalibrace sc\u00e9ny pomoc\u00ed objektu se zn\u00e1mou geometri\u00ed \n",
      "![kalibrace sc\u00e9ny pomoc\u00ed objektu se zn\u00e1mou geometri\u00ed](http://www.kky.zcu.cz/uploads/courses/zdo/lesson9/fig2.jpg)\n",
      "\n"
     ]
    },
    {
     "cell_type": "heading",
     "level": 1,
     "metadata": {},
     "source": [
      "Kalibra\u010dn\u00ed matice "
     ]
    },
    {
     "cell_type": "markdown",
     "metadata": {},
     "source": [
      "$$\n",
      "s  \\begin{bmatrix}\n",
      "u\\\\\n",
      "v\\\\\n",
      "1\n",
      "\\end{bmatrix} = \n",
      "\\begin{bmatrix}\n",
      "{f_x}&{0}&{c_x}\\\\\n",
      "{0}&{f_y}&{c_y}\\\\\n",
      "{0}&{0}&{1}\n",
      "\\end{bmatrix}\n",
      "\\begin{bmatrix}\n",
      "r_{11} & r_{12} & r_{13} & t_1  \\\\\n",
      "r_{21} & r_{22} & r_{23} & t_2  \\\\\n",
      "r_{31} & r_{32} & r_{33} & t_3\n",
      "\\end{bmatrix}\n",
      "\\begin{bmatrix}\n",
      "X \\\\\n",
      "Y \\\\\n",
      "Z \\\\\n",
      "1\n",
      "\\end{bmatrix}\n",
      "$$\n",
      "\n",
      "Kde \n",
      " * $(X, Y, Z)$ jsou sou\u0159adnice 3D bodu ve obecn\u00e9m prostoru\n",
      " * $(u, v)$ jsou sou\u0159adnice projekce bodu v pixelech\n",
      " * $A$ je matice kamery\n",
      " * $(cx, cy)$ is a principal point that is usually at the image center \n",
      " * $(fx, fy)$ are the focal lengths expressed in pixel units\n",
      "\n",
      "\n",
      "$$\n",
      "A=\\begin{bmatrix}\n",
      "\\alpha_{x} & \\gamma & u_{0}\\\\\n",
      "0 & \\alpha_{y} & v_{0}\\\\\n",
      "0 & 0 & 1\\end{bmatrix}\n",
      "$$\n",
      "\n",
      "vyu\u017eit\u00ed [epipol\u00e1rn\u00ed geometrie](http://www.elektrorevue.cz/clanky/05017/index.html) pro nalezen\u00ed bod\u016f v druh\u00e9m pohledu podle ozna\u010den\u00fdch (nalezen\u00fdch) bod\u016f v prvn\u00edm pohledu\n",
      "![u\u017eit\u00ed epipol\u00e1rn\u00ed geometrie](http://www.kky.zcu.cz/uploads/courses/zdo/lesson9/fig3.jpg)\n",
      "\n",
      "uk\u00e1zka nalezen\u00ed v\u00fdznamn\u00fdch bod\u016f pro 3D rekonstrukci objektu\n",
      "![nalezen\u00ed v\u00fdznamn\u00fdch bod\u016f pro 3D rekonstrukci objektu]\n",
      "(http://www.kky.zcu.cz/uploads/courses/zdo/lesson9/fig1.jpg)\n",
      "\n",
      "zrekonstruovan\u00fd objekt reprezentovan\u00fd pomoc\u00ed troj\u00faheln\u00edk\u016f ve skute\u010dn\u00e9m m\u011b\u0159\u00edtku\n",
      "![rekonstrukce](http://www.kky.zcu.cz/uploads/courses/zdo/lesson9/fig4.jpg)"
     ]
    },
    {
     "cell_type": "heading",
     "level": 1,
     "metadata": {},
     "source": [
      "Pou\u017e\u00edvan\u00e9 metody"
     ]
    },
    {
     "cell_type": "markdown",
     "metadata": {},
     "source": [
      "* SIFT, SURF\n",
      "* RANSAC"
     ]
    },
    {
     "cell_type": "heading",
     "level": 1,
     "metadata": {},
     "source": [
      "3D senzory (Kinect)"
     ]
    },
    {
     "cell_type": "markdown",
     "metadata": {},
     "source": [
      "laser vys\u00edl\u00e1 body v neviditeln\u00e9 \u010d\u00e1sti spektra ([uk\u00e1zka](https://www.youtube.com/watch?v=nvvQJxgykcU) )"
     ]
    },
    {
     "cell_type": "code",
     "collapsed": false,
     "input": [],
     "language": "python",
     "metadata": {},
     "outputs": []
    }
   ],
   "metadata": {}
  }
 ]
}