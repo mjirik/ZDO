{
 "cells": [
  {
   "cell_type": "markdown",
   "metadata": {},
   "source": [
    "# Semestrální práce 2019"
   ]
  },
  {
   "cell_type": "markdown",
   "metadata": {},
   "source": [
    "Detekce stavu ve hře Heroes of Might and Magic III.\n",
    "\n",
    "Cílem této semestrální práce je vytvořit funkční program sloužící k vyhodnocení aktuálního stavu ve hře Heroes of Might and Magic III.\n",
    "\n",
    "\n",
    "Specifikace\n",
    "\n",
    "•\tVstupem algoritmu bude složka se screenshoty ze hry z PC platformy \n",
    "\n",
    "•\tVýstupem bude vypsání jednotlivých stavů (viz požadavky) pro každý screenshot s možností vypsání do příkazové řádky i do souboru\n",
    "\n",
    "Požadavky\n",
    "\n",
    "•\tKlasifikace screenshotu do tří kategorii: Screenshot mapy, screenshot boje, ostatní (viz screenshoty níže), další úkoly budou závislé právě na tom, kde se aktuálně nacházíme\n",
    "\n",
    "•\tMapa\n",
    "\n",
    "    o Detekce hrdiny na mapě\n",
    "    \n",
    "    o Nepovinný úkol: Klasifikace aktuálního počtu surovin\n",
    "    \n",
    "•\tBoj\n",
    "\n",
    "    o Detekce aktuálního počtu stacků jednotek na bojišti\n",
    "    \n",
    "    o Klasifikace boje do dvou kategorií podle přítomnosti hrdiny: hrdina vs neutrální jednotky, hrdina vs hrdina\n",
    "    \n",
    "    o Nepovinný úkol: Detekce počtu jednotek v každém stacku\n",
    "    \n",
    "•\tOstatní\n",
    "\n",
    "    o Nepovinný úkol: Klasifikace na kategorie obrazovka města, ostatní\n",
    "    \n",
    "    o Nepovinný úkol 2: Klasifikace jednotlivých měst\n",
    "    \n",
    "•\tBonusový úkol:\n",
    "\n",
    "    o Po domluvě jakékoliv další možné klasifikační/detekční úlohy, které vás v rámci zpracování semestrální práce napadnou \n"
   ]
  },
  {
   "cell_type": "markdown",
   "metadata": {},
   "source": [
    "Příklady screenshotů\n",
    "\n",
    "•Mapa\n",
    "![Map](https://raw.githubusercontent.com/mjirik/ZDO/master/objekty/Heroes1.jpg)\n",
    "\n",
    "•Boj\n",
    "\n",
    "![Boj](https://raw.githubusercontent.com/mjirik/ZDO/master/objekty/Heroes2.jpg)\n",
    "\n",
    "•Město\n",
    "\n",
    "![Mesto](https://raw.githubusercontent.com/mjirik/ZDO/master/objekty/Heroes3.jpg)"
   ]
  },
  {
   "cell_type": "code",
   "execution_count": null,
   "metadata": {},
   "outputs": [],
   "source": []
  }
 ],
 "metadata": {
  "kernelspec": {
   "display_name": "Python 3",
   "language": "python",
   "name": "python3"
  },
  "language_info": {
   "codemirror_mode": {
    "name": "ipython",
    "version": 3
   },
   "file_extension": ".py",
   "mimetype": "text/x-python",
   "name": "python",
   "nbconvert_exporter": "python",
   "pygments_lexer": "ipython3",
   "version": "3.6.6"
  },
  "toc": {
   "base_numbering": 1,
   "nav_menu": {},
   "number_sections": true,
   "sideBar": true,
   "skip_h1_title": false,
   "title_cell": "Table of Contents",
   "title_sidebar": "Contents",
   "toc_cell": false,
   "toc_position": {},
   "toc_section_display": true,
   "toc_window_display": true
  }
 },
 "nbformat": 4,
 "nbformat_minor": 2
}
