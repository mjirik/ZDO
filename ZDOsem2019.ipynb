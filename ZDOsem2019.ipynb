{
 "cells": [
  {
   "cell_type": "markdown",
   "metadata": {},
   "source": [
    "# Semestrální práce 2019"
   ]
  },
  {
   "cell_type": "markdown",
   "metadata": {},
   "source": [
    "Detekce stavu ve hře Heroes of Might and Magic III.\n",
    "\n",
    "Cílem této semestrální práce je vytvořit funkční program sloužící k vyhodnocení aktuálního stavu ve hře Heroes of Might and Magic III.\n",
    "\n",
    "\n",
    "Specifikace\n",
    "\n",
    "•\tVstupem algoritmu bude složka se screenshoty ze hry z PC platformy \n",
    "\n",
    "•\tVýstupem bude vypsání jednotlivých stavů (viz požadavky) pro každý screenshot s možností vypsání do příkazové řádky i do souboru\n",
    "\n",
    "Požadavky\n",
    "\n",
    "•\tKlasifikace screenshotu do tří kategorii: Screenshot mapy, screenshot boje, ostatní (viz screenshoty níže), další úkoly budou závislé právě na tom, kde se aktuálně nacházíme\n",
    "\n",
    "•\tMapa\n",
    "\n",
    "    o Detekce hrdiny na mapě\n",
    "    \n",
    "    o Nepovinný úkol: Klasifikace aktuálního počtu surovin\n",
    "    \n",
    "•\tBoj\n",
    "\n",
    "    o Detekce aktuálního počtu stacků jednotek na bojišti\n",
    "    \n",
    "    o Klasifikace boje do dvou kategorií podle přítomnosti hrdiny: hrdina vs neutrální jednotky, hrdina vs hrdina\n",
    "    \n",
    "    o Nepovinný úkol: Detekce počtu jednotek v každém stacku\n",
    "    \n",
    "•\tOstatní\n",
    "\n",
    "    o Nepovinný úkol: Klasifikace na kategorie obrazovka města, ostatní\n",
    "    \n",
    "    o Nepovinný úkol 2: Klasifikace jednotlivých měst\n",
    "    \n",
    "•\tBonusový úkol:\n",
    "\n",
    "    o Po domluvě jakékoliv další možné klasifikační/detekční úlohy, které vás v rámci zpracování semestrální práce napadnou \n"
   ]
  },
  {
   "cell_type": "code",
   "execution_count": null,
   "metadata": {},
   "outputs": [],
   "source": []
  },
  {
   "cell_type": "code",
   "execution_count": null,
   "metadata": {},
   "outputs": [],
   "source": []
  }
 ],
 "metadata": {
  "kernelspec": {
   "display_name": "Python 3",
   "language": "python",
   "name": "python3"
  },
  "language_info": {
   "codemirror_mode": {
    "name": "ipython",
    "version": 3
   },
   "file_extension": ".py",
   "mimetype": "text/x-python",
   "name": "python",
   "nbconvert_exporter": "python",
   "pygments_lexer": "ipython3",
   "version": "3.6.7"
  }
 },
 "nbformat": 4,
 "nbformat_minor": 2
}
