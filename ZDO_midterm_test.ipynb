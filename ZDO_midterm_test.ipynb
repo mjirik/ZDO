{
 "cells": [
  {
   "cell_type": "markdown",
   "metadata": {},
   "source": [
    "# Count objects\n",
    "\n",
    "Prepare automatic counting algorithm\n",
    "\n",
    "* The goal is to count objects (stars, squares, circles, rectangles) in the image. \n",
    "* The object classification is not required. We are interested in suma of all objects together.\n",
    "* Two objects may touch each other and they are still counted as two.\n",
    "\n",
    "## Dataset\n",
    "\n",
    "The dataset images are stored on this url \n",
    "```\n",
    "https://raw.githubusercontent.com/mjirik/ZDO/master/objekty/dataset/XX.jpg\n",
    "```\n",
    "where `XX` is numer from `01` to `26`.\n",
    "\n",
    "Example: https://raw.githubusercontent.com/mjirik/ZDO/master/objekty/dataset/26.jpg\n",
    "\n",
    "Correct answer for fallowing image is 3\n",
    "![img](objekty/dataset/13.jpg)"
   ]
  },
  {
   "cell_type": "markdown",
   "metadata": {},
   "source": [
    "## Tips\n",
    "\n",
    "There is more than you will need to prepare the algorithm in fallowing imports"
   ]
  },
  {
   "cell_type": "code",
   "execution_count": null,
   "metadata": {},
   "outputs": [],
   "source": [
    "%pylab inline\n",
    "\n",
    "# from pylab import *\n",
    "# import cStringIO\n",
    "import urllib\n",
    "import scipy\n",
    "import scipy.misc\n",
    "import skimage\n",
    "import skimage.data\n",
    "from skimage.filters import threshold_otsu\n",
    "from skimage.filters import gaussian as gaussian_filter\n",
    "# gaussian_filter\n",
    "# from skimage.filter import threshold_otsu, gaussian_filter\n",
    "from skimage.morphology import label\n",
    "from scipy.ndimage.morphology import binary_closing, binary_erosion, binary_opening, binary_dilation\n",
    "\n",
    "from skimage.measure import regionprops\n",
    "from skimage.color import label2rgb\n",
    "from skimage.io import imread\n",
    "import pandas as pd"
   ]
  }
 ],
 "metadata": {
  "kernelspec": {
   "display_name": "Python 3",
   "language": "python",
   "name": "python3"
  },
  "language_info": {
   "codemirror_mode": {
    "name": "ipython",
    "version": 3
   },
   "file_extension": ".py",
   "mimetype": "text/x-python",
   "name": "python",
   "nbconvert_exporter": "python",
   "pygments_lexer": "ipython3",
   "version": "3.6.7"
  },
  "toc": {
   "base_numbering": 1,
   "nav_menu": {},
   "number_sections": true,
   "sideBar": true,
   "skip_h1_title": false,
   "title_cell": "Table of Contents",
   "title_sidebar": "Contents",
   "toc_cell": false,
   "toc_position": {},
   "toc_section_display": true,
   "toc_window_display": true
  }
 },
 "nbformat": 4,
 "nbformat_minor": 2
}
