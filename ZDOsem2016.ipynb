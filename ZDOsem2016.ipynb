{
 "cells": [
  {
   "cell_type": "markdown",
   "metadata": {},
   "source": [
    "# Zadání semestrální práce 2016 - kvasinky"
   ]
  },
  {
   "cell_type": "markdown",
   "metadata": {},
   "source": [
    "Cílem práce je sledování pohybu kvasinek v obrazu z mikroskopu. Úloha je rozdělena na dvě části:\n",
    "\n",
    "* Nalezení modelu pozadí\n",
    "* Sledování kvasinek\n",
    "\n",
    "V první části jde o nalezení pozadí. To je ve videích poměrně neměnné. Prakticky je nutné naimplementovat třídu `BackgroundModel`. \n",
    "\n",
    "Druhá část řeší vlastní sledování kvasinek. Tam je úkolem nalezení pohybující se kvasinky, určení její polohy v pixelech a směru jejího pohybu (předpokládanou polohu v následujícím framu)."
   ]
  },
  {
   "cell_type": "markdown",
   "metadata": {},
   "source": [
    "![kvasinky](http://147.228.240.61/zdo/2015/kvasinky-res.png)"
   ]
  },
  {
   "cell_type": "markdown",
   "metadata": {},
   "source": [
    "Data:\n",
    "\n",
    "http://147.228.240.61/zdo/2015/converted/\n",
    "\n",
    "případně alternativně\n",
    "\n",
    "http://147.228.240.61/zdo/2015/converted2/\n",
    "\n",
    "\n",
    "Základ pro semestrální práci\n",
    "http://github.com/neduchal/ZDO2015_sem_prace/"
   ]
  },
  {
   "cell_type": "markdown",
   "metadata": {},
   "source": [
    "## Komentář k první části"
   ]
  },
  {
   "cell_type": "markdown",
   "metadata": {},
   "source": [
    "Využijte již připraveného základu pro semestrální práci a doplňte modul `cast_1/src/model.py`\n",
    "\n",
    "Funkce `add_frame` může být volána například pro každý snímek videa a můžete ji využívat pro zadávání dat pro trénování a zpřesňování modelu.\n",
    "\n",
    "Funkce `get_model` vrací model - obrázek pozadí."
   ]
  },
  {
   "cell_type": "markdown",
   "metadata": {},
   "source": [
    "## Práce s videem"
   ]
  },
  {
   "cell_type": "code",
   "execution_count": 2,
   "metadata": {
    "collapsed": false
   },
   "outputs": [
    {
     "name": "stdout",
     "output_type": "stream",
     "text": [
      "Populating the interactive namespace from numpy and matplotlib\n"
     ]
    }
   ],
   "source": [
    "%pylab inline"
   ]
  },
  {
   "cell_type": "code",
   "execution_count": 2,
   "metadata": {
    "collapsed": false
   },
   "outputs": [],
   "source": [
    "# http://147.228.240.61/zdo/2015/converted/"
   ]
  },
  {
   "cell_type": "markdown",
   "metadata": {},
   "source": [
    "## Načítání obrázků z adresáře"
   ]
  },
  {
   "cell_type": "code",
   "execution_count": 8,
   "metadata": {
    "collapsed": false
   },
   "outputs": [],
   "source": [
    "import scipy\n",
    "import scipy.misc\n",
    "import glob\n",
    "import numpy as np\n",
    "import cv2\n",
    "import matplotlib.pyplot as plt\n",
    "# import model\n",
    "# import tracker\n",
    "\n",
    "\n",
    "# prostor pro inicializaci\n",
    "# 1.část\n",
    "# bm = model.BackgroundModel()\n",
    "# 2.část\n",
    "# tr = tracker.Tracker()\n",
    "\n",
    "files = sorted(glob.glob('/home/mjirik/tmp/kvasinky1/*.jpg'))\n",
    "\n",
    "for filename in files:\n",
    "    img = scipy.misc.imread(filename)\n",
    "    # zde místo pro práci s každým snímkem\n",
    "    \n",
    "    # 1.část\n",
    "    # bm.add_frame(gray_img)\n",
    "    # model = bm.get_model()\n",
    "    # img_without_background = img - model\n",
    "    \n",
    "    # 2.část\n",
    "    # tr.track_in_frame(gray_img)\n",
    "\n",
    "# ulož výsledky\n",
    "# tr.saveCsvFile()    \n",
    "\n",
    "\n",
    "\n",
    "    "
   ]
  },
  {
   "cell_type": "markdown",
   "metadata": {},
   "source": [
    "# Medicína - bránice"
   ]
  },
  {
   "cell_type": "markdown",
   "metadata": {},
   "source": [
    "![kvasinky](http://147.228.240.61/zdo/2016/bn-diagragm-segmentation-0.png)\n",
    "![kvasinky](http://147.228.240.61/zdo/2016/bn-diagragm-profile-0.png)\n",
    "\n",
    "![kvasinky](http://147.228.240.61/zdo/2016/bn-diagragm-segmentation-1.png)\n",
    "![kvasinky](http://147.228.240.61/zdo/2016/bn-diagragm-profile-1.png)\n",
    "\n"
   ]
  },
  {
   "cell_type": "markdown",
   "metadata": {},
   "source": [
    "![kvasinky](http://147.228.240.61/zdo/2016/bn-spine-001.png)\n",
    "![kvasinky](http://147.228.240.61/zdo/2016/bn-spine-002.png)\n",
    "![kvasinky](http://147.228.240.61/zdo/2016/bn-spine-003.png)"
   ]
  },
  {
   "cell_type": "markdown",
   "metadata": {},
   "source": [
    "## Klasifikace obrázků na text/netext"
   ]
  },
  {
   "cell_type": "markdown",
   "metadata": {},
   "source": [
    "Úkolem v této semestrální práci je vytvořit dataset obrázků, které by sloužily k natrénování klasifikátoru schopného rozlišit obraz dle jeho obsahu na text/netext. Cílem není zjistit jaké znaky případný text obsahuje (OCR), pouze přinést informaci o tom zda se na obrázku text nachází. "
   ]
  },
  {
   "cell_type": "markdown",
   "metadata": {},
   "source": [
    "### Postup"
   ]
  },
  {
   "cell_type": "markdown",
   "metadata": {},
   "source": [
    "* Vytvořit zdrojové obrazy (scan dokumentů a novin, fotky, ...)\n",
    "* Vytvořit skript v pythonu, který z výše uvedených dat vytvoří dataset (obrázky o stejné velikosti získané náhodným vyříznutím ze zdrojových dat) s informací od učitele o tom zda je na daném obrázku text nebo ne. \n",
    "* Rozdělení výše uvedeného na trénovací a testovací data (lze automatizovat)\n",
    "* Provedení sady experimentů s různými klasifikátory \n",
    "    * Vybrání příznaků použitých v klasifikátoru\n",
    "    * Natrénování klasifikátoru\n",
    "    * Analýza dat\n"
   ]
  }
 ],
 "metadata": {
  "kernelspec": {
   "display_name": "Python 2",
   "language": "python",
   "name": "python2"
  },
  "language_info": {
   "codemirror_mode": {
    "name": "ipython",
    "version": 2
   },
   "file_extension": ".py",
   "mimetype": "text/x-python",
   "name": "python",
   "nbconvert_exporter": "python",
   "pygments_lexer": "ipython2",
   "version": "2.7.6"
  }
 },
 "nbformat": 4,
 "nbformat_minor": 0
}
