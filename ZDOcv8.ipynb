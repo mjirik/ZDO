{
 "cells": [
  {
   "cell_type": "markdown",
   "metadata": {},
   "source": [
    "# Popis objektů"
   ]
  },
  {
   "cell_type": "markdown",
   "metadata": {},
   "source": [
    "* Vstup: binární obraz \n",
    "* Výstup: binární obraz, vektor příznaků\n",
    "* Cíl: popsat objekty čísly"
   ]
  },
  {
   "cell_type": "markdown",
   "metadata": {},
   "source": [
    "## Identifikace oblastí"
   ]
  },
  {
   "cell_type": "code",
   "execution_count": 2,
   "metadata": {},
   "outputs": [
    {
     "name": "stdout",
     "output_type": "stream",
     "text": [
      "Populating the interactive namespace from numpy and matplotlib\n"
     ]
    }
   ],
   "source": [
    "%pylab inline --no-import-all\n",
    "import skimage\n",
    "import skimage.io\n",
    "# skimage.morphology.label => skimage.measure.label\n",
    "import skimage.morphology\n",
    "import skimage.measure\n",
    "import matplotlib.pyplot as plt\n",
    "import numpy as np\n"
   ]
  },
  {
   "cell_type": "code",
   "execution_count": 3,
   "metadata": {},
   "outputs": [
    {
     "data": {
      "text/plain": [
       "<matplotlib.image.AxesImage at 0x22f39f00b70>"
      ]
     },
     "execution_count": 3,
     "metadata": {},
     "output_type": "execute_result"
    },
    {
     "data": {
      "image/png": "[encoded data removed]",
      "text/plain": [
       "<Figure size 432x288 with 3 Axes>"
      ]
     },
     "metadata": {},
     "output_type": "display_data"
    }
   ],
   "source": [
    "imrgb = skimage.io.imread('http://www.kky.zcu.cz/uploads/courses/zdo/lesson7/1.jpg')\n",
    "imrgb = skimage.io.imread('objekty/label.jpg')\n",
    "im = skimage.color.rgb2gray(imrgb) > 0.5\n",
    "# v tomto případě má pozadí label 0\n",
    "imlabel0 = skimage.measure.label(im)\n",
    "# v tomto případě má pozadí label -1\n",
    "imlabel1 = skimage.measure.label(im, background=0)\n",
    "\n",
    "plt.subplot(131)\n",
    "plt.title('orig')\n",
    "plt.imshow(im, cmap='gray')\n",
    "plt.subplot(132)\n",
    "plt.title('label')\n",
    "plt.imshow(imlabel0, cmap='gray')\n",
    "plt.subplot(133)\n",
    "plt.title('label\\ndefined backgr.')\n",
    "plt.imshow(imlabel1, cmap='gray')"
   ]
  },
  {
   "cell_type": "markdown",
   "metadata": {},
   "source": [
    "## Práce s oblastí"
   ]
  },
  {
   "cell_type": "markdown",
   "metadata": {},
   "source": [
    "Následující příklad ukazuje vybrání zvolené oblasti"
   ]
  },
  {
   "cell_type": "code",
   "execution_count": 5,
   "metadata": {},
   "outputs": [
    {
     "name": "stdout",
     "output_type": "stream",
     "text": [
      "labels  [0 1 2]\n"
     ]
    },
    {
     "data": {
      "text/plain": [
       "<matplotlib.image.AxesImage at 0x22f3a04e048>"
      ]
     },
     "execution_count": 5,
     "metadata": {},
     "output_type": "execute_result"
    },
    {
     "data": {
      "image/png": "[encoded data removed]",
      "text/plain": [
       "<Figure size 432x288 with 2 Axes>"
      ]
     },
     "metadata": {},
     "output_type": "display_data"
    }
   ],
   "source": [
    "print(\"labels \", np.unique(imlabel1))\n",
    "\n",
    "plt.subplot(121)\n",
    "plt.title('Object 0')\n",
    "plt.imshow(imlabel1==0, cmap='gray')\n",
    "plt.subplot(122)\n",
    "plt.title('Object 1')\n",
    "plt.imshow(imlabel1==1, cmap='gray')"
   ]
  },
  {
   "cell_type": "markdown",
   "metadata": {},
   "source": [
    "## Jednoduché popisy oblastí"
   ]
  },
  {
   "cell_type": "markdown",
   "metadata": {},
   "source": [
    "* Velikost\n",
    "* Eulerovo číslo \n",
    "    $$E = S - N$$\n",
    "    kde $S$ je počet souvislých oblastí a $N$ je počet děr\n",
    "* Výška, šířka\n",
    "* Projekce\n",
    "![projekce0](http://www.kky.zcu.cz/uploads/courses/zdo/lesson7/projekce.jpg)\n",
    "![projekce1](http://www.kky.zcu.cz/uploads/courses/zdo/lesson7/projekce2.jpg)\n",
    "\n",
    "* Výstřednost - poměr délek nejdelší tětivy a nejdelší tětivy k ní kolmé\n",
    "* Podlouhlost\n",
    "* Pravoúhlost\n",
    "* Směr\n",
    "* Nekompaktnost \n",
    "    $$\\textrm{nekompaktnost}=\\frac{(\\textrm{délka hranice})^2}{\\textrm{velikost}}$$\n",
    "\n",
    "\n",
    "Využijeme funkce [regionprops](http://scikit-image.org/docs/dev/api/skimage.measure.html#skimage.measure.regionprops). \n"
   ]
  },
  {
   "cell_type": "code",
   "execution_count": 8,
   "metadata": {},
   "outputs": [
    {
     "name": "stdout",
     "output_type": "stream",
     "text": [
      "[0 1 2]\n",
      "Centroid:  (62.486293379994166, 84.67264508603091)\n",
      "Area:  6858\n",
      "Euler:  -1\n",
      "Perimeter:  686.4823227814082\n"
     ]
    },
    {
     "data": {
      "image/png": "[encoded data removed]",
      "text/plain": [
       "<Figure size 432x288 with 1 Axes>"
      ]
     },
     "metadata": {},
     "output_type": "display_data"
    }
   ],
   "source": [
    "print(np.unique(imlabel1))\n",
    "props = skimage.measure.regionprops(imlabel1+1)\n",
    "\n",
    "print(\"Centroid: \", props[1].centroid)\n",
    "print(\"Area: \", props[1].area)\n",
    "print(\"Euler: \", props[1].euler_number)\n",
    "print(\"Perimeter: \", props[1].perimeter)\n",
    "ci = props[1].convex_image\n",
    "plt.imshow(ci)\n",
    "plt.show()"
   ]
  },
  {
   "cell_type": "code",
   "execution_count": 10,
   "metadata": {},
   "outputs": [
    {
     "name": "stdout",
     "output_type": "stream",
     "text": [
      "Id:  0\n",
      "Centroid:  (76.83132073428277, 84.18519521308279)\n",
      "Area:  18467\n",
      "Euler:  -1\n",
      "\n",
      "Id:  1\n",
      "Centroid:  (62.486293379994166, 84.67264508603091)\n",
      "Area:  6858\n",
      "Euler:  -1\n",
      "\n",
      "Id:  2\n",
      "Centroid:  (113.5, 146.51309408341416)\n",
      "Area:  2062\n",
      "Euler:  1\n",
      "\n"
     ]
    }
   ],
   "source": [
    "for i in range(len(props)):\n",
    "    print(\"Id: \", i)\n",
    "    print(\"Centroid: \", props[i].centroid)\n",
    "    print(\"Area: \", props[i].area)\n",
    "    print(\"Euler: \", props[i].euler_number)\n",
    "    print(\"\")"
   ]
  },
  {
   "cell_type": "markdown",
   "metadata": {},
   "source": [
    "## Regionprops s intenzitami"
   ]
  },
  {
   "cell_type": "code",
   "execution_count": 22,
   "metadata": {},
   "outputs": [
    {
     "data": {
      "text/plain": [
       "1.0"
      ]
     },
     "execution_count": 22,
     "metadata": {},
     "output_type": "execute_result"
    }
   ],
   "source": [
    "props = skimage.measure.regionprops(imlabel1 + 1, im)\n",
    "props[1].mean_intensity\n"
   ]
  },
  {
   "cell_type": "code",
   "execution_count": 14,
   "metadata": {},
   "outputs": [],
   "source": [
    "## stara implementace\n",
    "\n",
    "# props0 = skimage.measure.regionprops(imlabel1==0)\n",
    "# props = props0\n",
    "# print \"Centroid \", props[0].centroid\n",
    "# print \"Area \", props[0].area\n",
    "# print \"Euler \", props[0].euler_number\n",
    "\n",
    "\n",
    "# #print \"Centroid 1 \", props[1].centroid\n",
    "\n",
    "# props1 = skimage.measure.regionprops(imlabel1==1)\n",
    "# props = props1\n",
    "# print \"Centroid \", props[0].centroid\n",
    "# print \"Area \", props[0].area\n",
    "# print \"Euler \", props[0].euler_number\n",
    "\n",
    "\n"
   ]
  },
  {
   "cell_type": "markdown",
   "metadata": {},
   "source": [
    "## Freemanův řetězový kód"
   ]
  },
  {
   "cell_type": "markdown",
   "metadata": {},
   "source": [
    "![freeman](https://www.mathworks.com/matlabcentral/mlc-downloads/downloads/submissions/29518/versions/1/screenshot.gif)"
   ]
  },
  {
   "cell_type": "markdown",
   "metadata": {},
   "source": [
    "![freeman](https://image.slidesharecdn.com/simplyshape-121204125644-phpapp02/95/simply-shape-4-638.jpg?cb=1354625962)"
   ]
  },
  {
   "cell_type": "markdown",
   "metadata": {},
   "source": [
    "## Obecný momentový popis"
   ]
  },
  {
   "cell_type": "markdown",
   "metadata": {},
   "source": [
    "Obecné momenty\n",
    "\n",
    "$$ M_{ij} = \\sum_x \\sum_y x^i, y^j I (x,y) $$\n",
    "\n",
    "[skimage.measure.moments()](http://scikit-image.org/docs/dev/api/skimage.measure.html#moments)"
   ]
  },
  {
   "cell_type": "markdown",
   "metadata": {},
   "source": [
    "## Centrální moment"
   ]
  },
  {
   "cell_type": "markdown",
   "metadata": {},
   "source": [
    "Souřadnice centroidu \n",
    "$ \\bar{x} = \\frac{M_{10}}{M_{00}}$\n",
    "$ \\bar{y} = \\frac{M_{01}}{M_{00}}$\n",
    "\n",
    "$$\n",
    "\\mu_{pq} = \\sum_x \\sum_y (x-\\bar{x})^p (y-\\bar{y})^q f(x,y)\n",
    "$$\n",
    "kde $f(x,y)$ je digitální obraz\n",
    "\n",
    "\n",
    "[skimage.measure.moments_central()](http://scikit-image.org/docs/dev/api/skimage.measure.html#moments-central)"
   ]
  },
  {
   "cell_type": "markdown",
   "metadata": {},
   "source": [
    "## Huovy momenty"
   ]
  },
  {
   "cell_type": "markdown",
   "metadata": {},
   "source": [
    "Sedm momentů nezávislých na posunutí, změnu měřítka a rotaci. Prvních šest je nezávislých na zrcadlení. Poslední při zrcadlení mění znaménko.\n",
    "$$ I_1 = \\eta_{20} + \\eta_{02}$$\n",
    "$$ I_2 = (\\eta_{20} - \\eta_{02})^2 + 4\\eta_{11}^2$$\n",
    "$$ I_3 = (\\eta_{30} - 3\\eta_{12})^2 + (3\\eta_{21} - \\eta_{03})^2$$\n",
    "$$ I_4 = (\\eta_{30} + \\eta_{12})^2 + (\\eta_{21} + \\eta_{03})^2 $$\n",
    "$$ I_5 = (\\eta_{30} - 3\\eta_{12}) (\\eta_{30} + \\eta_{12})\\left[ (\\eta_{30} + \\eta_{12})^2 - 3 (\\eta_{21} + \\eta_{03})^2\\right] + (3 \\eta_{21} - \\eta_{03}) (\\eta_{21} + \\eta_{03})\\left[ 3(\\eta_{30} + \\eta_{12})^2 -  (\\eta_{21} + \\eta_{03})^2\\right]$$\n",
    "$$ I_6 =  (\\eta_{20} - \\eta_{02})[(\\eta_{30} + \\eta_{12})^2 - (\\eta_{21} + \\eta_{03})^2] + 4\\eta_{11}(\\eta_{30} + \\eta_{12})(\\eta_{21} + \\eta_{03})$$\n",
    "$$ I_7 = (3 \\eta_{21} - \\eta_{03})(\\eta_{30} + \\eta_{12})\\left[(\\eta_{30} + \\eta_{12})^2 - 3(\\eta_{21} + \\eta_{03})^2\\right] - (\\eta_{30} - 3\\eta_{12})(\\eta_{21} + \\eta_{03})\\left[3(\\eta_{30} + \\eta_{12})^2 - (\\eta_{21} + \\eta_{03})^2\\right]$$\n",
    "$$ $$\n",
    "[Huovy momenty na wiky](http://en.wikipedia.org/wiki/Image_moment#Rotation_invariant_moments)\n",
    "\n",
    "[skimage.measure.moments_hu()](http://scikit-image.org/docs/dev/api/skimage.measure.html#moments-hu)\n"
   ]
  },
  {
   "cell_type": "code",
   "execution_count": null,
   "metadata": {
    "collapsed": true
   },
   "outputs": [],
   "source": []
  }
 ],
 "metadata": {
  "anaconda-cloud": {},
  "kernelspec": {
   "display_name": "Python 3",
   "language": "python",
   "name": "python3"
  },
  "language_info": {
   "codemirror_mode": {
    "name": "ipython",
    "version": 3
   },
   "file_extension": ".py",
   "mimetype": "text/x-python",
   "name": "python",
   "nbconvert_exporter": "python",
   "pygments_lexer": "ipython3",
   "version": "3.6.4"
  }
 },
 "nbformat": 4,
 "nbformat_minor": 1
}
