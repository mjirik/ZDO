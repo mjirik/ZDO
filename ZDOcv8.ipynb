{
 "metadata": {
  "name": "",
  "signature": "sha256:2b590bb55d4ea9e855cdd02498a2dcd74619b700d689e808a62760244c6d83ef"
 },
 "nbformat": 3,
 "nbformat_minor": 0,
 "worksheets": [
  {
   "cells": [
    {
     "cell_type": "heading",
     "level": 1,
     "metadata": {},
     "source": [
      "Popis objekt\u016f"
     ]
    },
    {
     "cell_type": "markdown",
     "metadata": {},
     "source": [
      "* Vstup: bin\u00e1rn\u00ed obraz \n",
      "* V\u00fdstup: bin\u00e1rn\u00ed obraz, vektor p\u0159\u00edznak\u016f\n",
      "* C\u00edl: popsat objekty \u010d\u00edsly"
     ]
    },
    {
     "cell_type": "heading",
     "level": 2,
     "metadata": {},
     "source": [
      "Identifikace oblast\u00ed"
     ]
    },
    {
     "cell_type": "code",
     "collapsed": false,
     "input": [
      "%pylab inline --no-import-all\n",
      "import skimage\n",
      "import skimage.io\n",
      "import skimage.morphology\n",
      "import skimage.measure\n",
      "import matplotlib.pyplot as plt\n",
      "import numpy as np\n"
     ],
     "language": "python",
     "metadata": {},
     "outputs": [
      {
       "output_type": "stream",
       "stream": "stdout",
       "text": [
        "Populating the interactive namespace from numpy and matplotlib\n"
       ]
      }
     ],
     "prompt_number": 33
    },
    {
     "cell_type": "code",
     "collapsed": false,
     "input": [
      "imrgb = skimage.io.imread('http://www.kky.zcu.cz/uploads/courses/zdo/lesson7/1.jpg')\n",
      "im = skimage.color.rgb2gray(imrgb) > 0.5\n",
      "imlabel0 = skimage.morphology.label(im)\n",
      "imlabel1 = skimage.morphology.label(im, background=0)\n",
      "\n",
      "plt.subplot(131)\n",
      "plt.title('orig')\n",
      "plt.imshow(im, cmap='gray')\n",
      "plt.subplot(132)\n",
      "plt.title('label')\n",
      "plt.imshow(imlabel0, cmap='gray')\n",
      "plt.subplot(133)\n",
      "plt.title('label\\ndefined backgr.')\n",
      "plt.imshow(imlabel, cmap='gray')"
     ],
     "language": "python",
     "metadata": {},
     "outputs": [
      {
       "metadata": {},
       "output_type": "pyout",
       "prompt_number": 49,
       "text": [
        "<matplotlib.image.AxesImage at 0x91b44d0>"
       ]
      },
      {
       "output_type": "stream",
       "stream": "stdout",
       "text": [
        "\n"
       ]
      },
      {
       "metadata": {},
       "output_type": "display_data",
       "png": "[encoded data removed]",
       "text": [
        "<matplotlib.figure.Figure at 0x8dc2510>"
       ]
      }
     ],
     "prompt_number": 49
    },
    {
     "cell_type": "heading",
     "level": 2,
     "metadata": {},
     "source": [
      "Pr\u00e1ce s oblast\u00ed"
     ]
    },
    {
     "cell_type": "markdown",
     "metadata": {},
     "source": [
      "N\u00e1sleduj\u00edc\u00ed p\u0159\u00edklad ukazuje vybr\u00e1n\u00ed zvolen\u00e9 oblasti"
     ]
    },
    {
     "cell_type": "code",
     "collapsed": false,
     "input": [
      "print \"labels \", np.unique(imlabel)\n",
      "\n",
      "plt.subplot(121)\n",
      "plt.title('Object 0')\n",
      "plt.imshow(imlabel==0, cmap='gray')\n",
      "plt.subplot(122)\n",
      "plt.title('Object 1')\n",
      "plt.imshow(imlabel==1, cmap='gray')"
     ],
     "language": "python",
     "metadata": {},
     "outputs": [
      {
       "output_type": "stream",
       "stream": "stdout",
       "text": [
        " labels  [-1  0  1]\n"
       ]
      },
      {
       "metadata": {},
       "output_type": "pyout",
       "prompt_number": 66,
       "text": [
        "<matplotlib.image.AxesImage at 0x9899f50>"
       ]
      },
      {
       "metadata": {},
       "output_type": "display_data",
       "png": "[encoded data removed]",
       "text": [
        "<matplotlib.figure.Figure at 0x8dc1650>"
       ]
      }
     ],
     "prompt_number": 66
    },
    {
     "cell_type": "heading",
     "level": 2,
     "metadata": {},
     "source": [
      "Jednoduch\u00e9 popisy oblast\u00ed"
     ]
    },
    {
     "cell_type": "markdown",
     "metadata": {},
     "source": [
      "* Velikost\n",
      "* Eulerovo \u010d\u00edslo \n",
      "    $$E = S - N$$\n",
      "    kde $S$ je po\u010det souvisl\u00fdch oblast\u00ed a $N$ je po\u010det d\u011br\n",
      "* V\u00fd\u0161ka, \u0161\u00ed\u0159ka\n",
      "* Projekce\n",
      "![projekce0](http://www.kky.zcu.cz/uploads/courses/zdo/lesson7/projekce.jpg)\n",
      "![projekce1](http://www.kky.zcu.cz/uploads/courses/zdo/lesson7/projekce2.jpg)\n",
      "\n",
      "* V\u00fdst\u0159ednost - pom\u011br d\u00e9lek nejdel\u0161\u00ed t\u011btivy a nejdel\u0161\u00ed t\u011btivy k n\u00ed kolm\u00e9\n",
      "* Podlouhlost\n",
      "* Pravo\u00fahlost\n",
      "* Sm\u011br\n",
      "* Nekompaktnost \n",
      "    $$\\textrm{nekompaktnost}=\\frac{(\\textrm{d\u00e9lka hranice})^2}{\\textrm{velikost}}$$\n",
      "\n",
      "\n",
      "Vyu\u017eijeme funkce [regionprops](http://scikit-image.org/docs/dev/api/skimage.measure.html#skimage.measure.regionprops). \n"
     ]
    },
    {
     "cell_type": "code",
     "collapsed": false,
     "input": [
      "props0 = skimage.measure.regionprops(imlabel==0)\n",
      "props = props0\n",
      "print \"Centroid \", props[0].centroid\n",
      "print \"Area \", props[0].area\n",
      "print \"Euler \", props[0].euler_number\n",
      "\n",
      "\n",
      "#print \"Centroid 1 \", props[1].centroid\n",
      "\n",
      "props1 = skimage.measure.regionprops(imlabel==1)\n",
      "props = props1\n",
      "print \"Centroid \", props[0].centroid\n",
      "print \"Area \", props[0].area\n",
      "print \"Euler \", props[0].euler_number\n",
      "\n",
      "\n",
      "ci = props0[0].convex_image\n",
      "plt.imshow(ci)"
     ],
     "language": "python",
     "metadata": {},
     "outputs": [
      {
       "output_type": "stream",
       "stream": "stdout",
       "text": [
        "Centroid  (62.486293379994166, 84.672645086030911)\n",
        "Area  6858.0\n",
        "Euler  -2\n",
        "Centroid  (113.5, 146.51309408341416)\n",
        "Area  2062.0\n",
        "Euler  0\n"
       ]
      },
      {
       "metadata": {},
       "output_type": "pyout",
       "prompt_number": 82,
       "text": [
        "<matplotlib.image.AxesImage at 0x96b56d0>"
       ]
      },
      {
       "metadata": {},
       "output_type": "display_data",
       "png": "[encoded data removed]",
       "text": [
        "<matplotlib.figure.Figure at 0x969bbd0>"
       ]
      }
     ],
     "prompt_number": 82
    },
    {
     "cell_type": "heading",
     "level": 2,
     "metadata": {},
     "source": [
      "Freeman\u016fv \u0159et\u011bzov\u00fd k\u00f3d"
     ]
    },
    {
     "cell_type": "markdown",
     "metadata": {},
     "source": [
      "![freeman](http://www.mathworks.com/matlabcentral/fileexchange/screenshots/4718/original.jpg)"
     ]
    },
    {
     "cell_type": "heading",
     "level": 2,
     "metadata": {},
     "source": [
      "Obecn\u00fd momentov\u00fd popis"
     ]
    },
    {
     "cell_type": "markdown",
     "metadata": {},
     "source": [
      "Obecn\u00e9 momenty\n",
      "\n",
      "$$ M_{ij} = \\sum_x \\sum_y x_i, y_j I (x,y) $$\n",
      "\n",
      "[skimage.measure.moments()](http://scikit-image.org/docs/dev/api/skimage.measure.html#moments)"
     ]
    },
    {
     "cell_type": "heading",
     "level": 2,
     "metadata": {},
     "source": [
      "Centr\u00e1ln\u00ed moment"
     ]
    },
    {
     "cell_type": "markdown",
     "metadata": {},
     "source": [
      "Sou\u0159adnice centroidu \n",
      "$ \\bar{x} = \\frac{M_{10}}{M_{00}}$\n",
      "$ \\bar{y} = \\frac{M_{01}}{M_{00}}$\n",
      "\n",
      "$$\n",
      "\\mu_{pq} = \\sum_x \\sum_y (x-\\bar{x})^p (y-\\bar{y})^q f(x,y)\n",
      "$$\n",
      "kde $f(x,y)$ je digit\u00e1ln\u00ed obraz\n",
      "\n",
      "\n",
      "[skimage.measure.moments_central()](http://scikit-image.org/docs/dev/api/skimage.measure.html#moments-central)"
     ]
    },
    {
     "cell_type": "heading",
     "level": 2,
     "metadata": {},
     "source": [
      "Huovy momenty"
     ]
    },
    {
     "cell_type": "markdown",
     "metadata": {},
     "source": [
      "Sedm moment\u016f nez\u00e1visl\u00fdch na posunut\u00ed, zm\u011bnu m\u011b\u0159\u00edtka a rotaci. Prvn\u00edch \u0161est je nez\u00e1visl\u00fdch na zrcadlen\u00ed. Posledn\u00ed p\u0159i zrcadlen\u00ed m\u011bn\u00ed znam\u00e9nko.\n",
      "$$ I_1 = \\eta_{20} + \\eta_{02}$$\n",
      "$$ I_2 = (\\eta_{20} - \\eta_{02})^2 + 4\\eta_{11}^2$$\n",
      "$$ I_3 = (\\eta_{30} - 3\\eta_{12})^2 + (3\\eta_{21} - \\eta_{03})^2$$\n",
      "$$ I_4 = (\\eta_{30} + \\eta_{12})^2 + (\\eta_{21} + \\eta_{03})^2 $$\n",
      "$$ I_5 = (\\eta_{30} - 3\\eta_{12}) (\\eta_{30} + \\eta_{12})\\left[ (\\eta_{30} + \\eta_{12})^2 - 3 (\\eta_{21} + \\eta_{03})^2\\right] + (3 \\eta_{21} - \\eta_{03}) (\\eta_{21} + \\eta_{03})\\left[ 3(\\eta_{30} + \\eta_{12})^2 -  (\\eta_{21} + \\eta_{03})^2\\right]$$\n",
      "$$ I_6 =  (\\eta_{20} - \\eta_{02})[(\\eta_{30} + \\eta_{12})^2 - (\\eta_{21} + \\eta_{03})^2] + 4\\eta_{11}(\\eta_{30} + \\eta_{12})(\\eta_{21} + \\eta_{03})$$\n",
      "$$ I_7 = (3 \\eta_{21} - \\eta_{03})(\\eta_{30} + \\eta_{12})\\left[(\\eta_{30} + \\eta_{12})^2 - 3(\\eta_{21} + \\eta_{03})^2\\right] - (\\eta_{30} - 3\\eta_{12})(\\eta_{21} + \\eta_{03})\\left[3(\\eta_{30} + \\eta_{12})^2 - (\\eta_{21} + \\eta_{03})^2\\right]$$\n",
      "$$ $$\n",
      "[Huovy momenty na wiky](http://en.wikipedia.org/wiki/Image_moment#Rotation_invariant_moments)\n",
      "\n",
      "[skimage.measure.moments_hu()](http://scikit-image.org/docs/dev/api/skimage.measure.html#moments-hu)\n"
     ]
    },
    {
     "cell_type": "code",
     "collapsed": false,
     "input": [],
     "language": "python",
     "metadata": {},
     "outputs": []
    }
   ],
   "metadata": {}
  }
 ]
}