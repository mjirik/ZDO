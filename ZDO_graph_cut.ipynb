{
 "cells": [
  {
   "cell_type": "markdown",
   "metadata": {},
   "source": [
    "<center><img src=\"graphics/Logolink_OP_VVV_hor_barva_cz.jpg\" width=\"600px\"/></center>\n",
    "<center>ESF projekt Západočeské univerzity v Plzni reg. č. CZ.02.2.69/0.0/0.0/16 015/0002287</center>"
   ]
  },
  {
   "cell_type": "markdown",
   "metadata": {},
   "source": [
    "# Graph-Cut Segmentation\n",
    "\n",
    "\n",
    "## Install\n",
    "\n",
    "```\n",
    "conda install -c mjirik -c conda-forge pygco imcut\n",
    "\n",
    "```"
   ]
  },
  {
   "cell_type": "markdown",
   "metadata": {},
   "source": [
    "# Graph-Cut"
   ]
  },
  {
   "cell_type": "code",
   "execution_count": 2,
   "metadata": {},
   "outputs": [],
   "source": [
    "import numpy as np\n",
    "# pip install pygco\n",
    "import pygco\n",
    "img = np.array([[10, 9, 2],\n",
    "                [8, 10, 1],\n",
    "                [10, 1, 2]], dtype=np.int32)"
   ]
  },
  {
   "cell_type": "markdown",
   "metadata": {},
   "source": [
    "## Simple Graph-Cut with constant N-links"
   ]
  },
  {
   "cell_type": "code",
   "execution_count": 3,
   "metadata": {},
   "outputs": [
    {
     "data": {
      "text/plain": [
       "array([[1, 1, 0],\n",
       "       [1, 1, 0],\n",
       "       [1, 0, 0]])"
      ]
     },
     "execution_count": 3,
     "metadata": {},
     "output_type": "execute_result"
    }
   ],
   "source": [
    "lambd = 1\n",
    "pairwise_alpha = -1\n",
    "\n",
    "# T-links setup\n",
    "unaries = np.zeros([3,3,2], dtype=np.int32)\n",
    "unaries[:,:,0] = lambd * img\n",
    "unaries[:,:,1] = lambd * (10 - img)\n",
    "\n",
    "\n",
    "pairwise = pairwise_alpha * np.eye(2, dtype=np.int32)\n",
    "\n",
    "\n",
    "pygco.cut_simple(unaries, pairwise)"
   ]
  },
  {
   "cell_type": "markdown",
   "metadata": {},
   "source": [
    "## Graph-Cut with N-links"
   ]
  },
  {
   "cell_type": "code",
   "execution_count": 4,
   "metadata": {},
   "outputs": [
    {
     "name": "stdout",
     "output_type": "stream",
     "text": [
      "[[10  9  2]\n",
      " [ 8 10  1]\n",
      " [10  1  2]]\n",
      "[[ 8  9  9]\n",
      " [ 8  1  9]\n",
      " [10 10 10]]\n",
      "[[ 9  3 10]\n",
      " [ 8  1 10]\n",
      " [ 1  9 10]]\n"
     ]
    },
    {
     "data": {
      "text/plain": [
       "array([[1, 1, 0],\n",
       "       [1, 1, 0],\n",
       "       [1, 0, 0]])"
      ]
     },
     "execution_count": 4,
     "metadata": {},
     "output_type": "execute_result"
    }
   ],
   "source": [
    "import scipy\n",
    "import scipy.ndimage\n",
    "import scipy.ndimage.filters\n",
    "costv = scipy.ndimage.filters.convolve(img, [[1],[-1]])\n",
    "costh = scipy.ndimage.filters.convolve(img, [[1, -1]])\n",
    "# costv = 1\n",
    "# costh = 1\n",
    "costv = 10 - np.abs(costv[:, :])\n",
    "costh = 10 - np.abs(costh[:, :])\n",
    "print(img)\n",
    "print(costv)\n",
    "print(costh)\n",
    "\n",
    "pygco.cut_simple_vh(unaries, pairwise, costh, costv)"
   ]
  },
  {
   "cell_type": "markdown",
   "metadata": {},
   "source": [
    "## General Graph construction"
   ]
  },
  {
   "cell_type": "code",
   "execution_count": 5,
   "metadata": {},
   "outputs": [
    {
     "data": {
      "text/plain": [
       "array([[1, 1, 0],\n",
       "       [1, 1, 0],\n",
       "       [1, 0, 0]])"
      ]
     },
     "execution_count": 5,
     "metadata": {},
     "output_type": "execute_result"
    }
   ],
   "source": [
    "# use the gerneral graph algorithm\n",
    "# first, we construct the grid graph\n",
    "inds = np.arange(img.size).reshape(img.shape)\n",
    "horz = np.c_[inds[:, :-1].ravel(), inds[:, 1:].ravel()]\n",
    "vert = np.c_[inds[:-1, :].ravel(), inds[1:, :].ravel()]\n",
    "edges = np.vstack([horz, vert]).astype(np.int32)\n",
    "\n",
    "\n",
    "\n",
    "result_graph = pygco.cut_from_graph(edges, unaries.reshape(-1, 2), pairwise)\n",
    "result_graph.reshape(img.shape)"
   ]
  },
  {
   "cell_type": "markdown",
   "metadata": {},
   "source": [
    "# `imcut` package"
   ]
  },
  {
   "cell_type": "code",
   "execution_count": 7,
   "metadata": {},
   "outputs": [
    {
     "data": {
      "image/png": "[encoded data removed]",
      "text/plain": [
       "<Figure size 432x288 with 1 Axes>"
      ]
     },
     "metadata": {
      "needs_background": "light"
     },
     "output_type": "display_data"
    }
   ],
   "source": [
    "import numpy as np\n",
    "from imcut import pycut\n",
    "import matplotlib.pyplot as plt\n",
    "\n",
    "# create data\n",
    "data = np.random.rand(30, 30, 30)\n",
    "data[10:20, 5:15, 3:13] += 1\n",
    "data = data * 30\n",
    "data = data.astype(np.int16)\n",
    "\n",
    "# Make seeds\n",
    "seeds = np.zeros([30, 30, 30])\n",
    "seeds[13:17, 7:10, 5:11] = 1\n",
    "seeds[0:5:, 0:10, 0:11] = 2\n",
    "\n",
    "# Run\n",
    "igc = pycut.ImageGraphCut(data, voxelsize=[1, 1, 1])\n",
    "igc.set_seeds(seeds)\n",
    "igc.run()\n",
    "\n",
    "# Show results\n",
    "colormap = plt.cm.get_cmap('brg')\n",
    "colormap._init()\n",
    "colormap._lut[:1:, 3] = 0\n",
    "\n",
    "plt.imshow(data[:, :, 10], cmap='gray')\n",
    "plt.contour(igc.segmentation[:, :, 10], levels=[0.5])\n",
    "plt.imshow(igc.seeds[:, :, 10], cmap=colormap, interpolation='none')\n",
    "# plt.savefig(\"gc_example.png\")\n",
    "plt.show()"
   ]
  },
  {
   "cell_type": "markdown",
   "metadata": {},
   "source": [
    "## Model debug"
   ]
  },
  {
   "cell_type": "code",
   "execution_count": 8,
   "metadata": {},
   "outputs": [
    {
     "data": {
      "image/png": "[encoded data removed]",
      "text/plain": [
       "<Figure size 432x288 with 1 Axes>"
      ]
     },
     "metadata": {
      "needs_background": "light"
     },
     "output_type": "display_data"
    }
   ],
   "source": [
    "a = igc.debug_show_model(start=0, stop=100)"
   ]
  },
  {
   "cell_type": "markdown",
   "metadata": {},
   "source": [
    "## Change model parameters"
   ]
  },
  {
   "cell_type": "code",
   "execution_count": 9,
   "metadata": {},
   "outputs": [],
   "source": [
    "segparams = {\n",
    "    # 'method':'graphcut',\n",
    "    'method': 'graphcut',\n",
    "    'use_boundary_penalties': False,\n",
    "    'boundary_dilatation_distance': 2,\n",
    "    'boundary_penalties_weight': 1,\n",
    "    'modelparams': {\n",
    "        'type': 'gmmsame',\n",
    "        'params': {\n",
    "            \"n_components\": 2\n",
    "        }\n",
    "        # \"return_only_object_with_seeds\": True,\n",
    "        # 'fv_type': \"fv_extern\",\n",
    "        # 'fv_extern': fv_function,\n",
    "        # 'adaptation': 'original_data',\n",
    "    }\n",
    "}"
   ]
  },
  {
   "cell_type": "code",
   "execution_count": 10,
   "metadata": {},
   "outputs": [
    {
     "data": {
      "image/png": "[encoded data removed]",
      "text/plain": [
       "<Figure size 432x288 with 1 Axes>"
      ]
     },
     "metadata": {
      "needs_background": "light"
     },
     "output_type": "display_data"
    }
   ],
   "source": [
    "# Run\n",
    "igc = pycut.ImageGraphCut(data, voxelsize=[1, 1, 1], segparams=segparams)\n",
    "igc.set_seeds(seeds)\n",
    "igc.run()\n",
    "\n",
    "# Show results\n",
    "colormap = plt.cm.get_cmap('brg')\n",
    "colormap._init()\n",
    "colormap._lut[:1:, 3] = 0\n",
    "\n",
    "plt.imshow(data[:, :, 10], cmap='gray')\n",
    "plt.contour(igc.segmentation[:, :, 10], levels=[0.5])\n",
    "plt.imshow(igc.seeds[:, :, 10], cmap=colormap, interpolation='none')\n",
    "# plt.savefig(\"gc_example.png\")\n",
    "plt.show()"
   ]
  },
  {
   "cell_type": "code",
   "execution_count": 11,
   "metadata": {},
   "outputs": [
    {
     "data": {
      "image/png": "[encoded data removed]",
      "text/plain": [
       "<Figure size 432x288 with 1 Axes>"
      ]
     },
     "metadata": {
      "needs_background": "light"
     },
     "output_type": "display_data"
    }
   ],
   "source": [
    "a = igc.debug_show_model(start=0, stop=100)"
   ]
  },
  {
   "cell_type": "code",
   "execution_count": 12,
   "metadata": {},
   "outputs": [
    {
     "data": {
      "image/png": "[encoded data removed]",
      "text/plain": [
       "<Figure size 432x288 with 2 Axes>"
      ]
     },
     "metadata": {
      "needs_background": "light"
     },
     "output_type": "display_data"
    },
    {
     "data": {
      "image/png": "[encoded data removed]",
      "text/plain": [
       "<Figure size 432x288 with 2 Axes>"
      ]
     },
     "metadata": {
      "needs_background": "light"
     },
     "output_type": "display_data"
    }
   ],
   "source": [
    "igc.debug_show_reconstructed_similarity()"
   ]
  },
  {
   "cell_type": "markdown",
   "metadata": {},
   "source": [
    "# Other resources\n",
    "\n",
    "\n",
    "http://cmp.felk.cvut.cz/~smidm/python-packages-for-graph-cuts-on-images.html\n",
    "\n",
    "http://docs.opencv.org/3.1.0/d8/d83/tutorial_py_grabcut.html"
   ]
  },
  {
   "cell_type": "code",
   "execution_count": null,
   "metadata": {},
   "outputs": [],
   "source": []
  }
 ],
 "metadata": {
  "kernelspec": {
   "display_name": "Python 3",
   "language": "python",
   "name": "python3"
  },
  "language_info": {
   "codemirror_mode": {
    "name": "ipython",
    "version": 3
   },
   "file_extension": ".py",
   "mimetype": "text/x-python",
   "name": "python",
   "nbconvert_exporter": "python",
   "pygments_lexer": "ipython3",
   "version": "3.6.7"
  },
  "toc": {
   "base_numbering": 1,
   "nav_menu": {},
   "number_sections": true,
   "sideBar": true,
   "skip_h1_title": false,
   "title_cell": "Table of Contents",
   "title_sidebar": "Contents",
   "toc_cell": false,
   "toc_position": {},
   "toc_section_display": true,
   "toc_window_display": true
  }
 },
 "nbformat": 4,
 "nbformat_minor": 1
}
