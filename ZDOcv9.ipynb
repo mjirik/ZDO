{
 "cells": [
  {
   "cell_type": "markdown",
   "metadata": {},
   "source": [
    "# Klasifikátory a analýza pohybu"
   ]
  },
  {
   "cell_type": "markdown",
   "metadata": {},
   "source": [
    "Několik typů klasifikátorů:\n",
    "\n",
    "* Nejbližší soused (KNN)\n",
    "* Bayessův klasifikátor \n",
    "* Support Vector Machine (SVM)\n",
    "\n",
    "Dva základní typy učení:\n",
    "\n",
    "* S učitelem (Supervised learning)\n",
    "* Bez učitele (Unsupervised learning)\n",
    "    "
   ]
  },
  {
   "cell_type": "markdown",
   "metadata": {},
   "source": [
    "## Klasifikátory v Pythonu"
   ]
  },
  {
   "cell_type": "markdown",
   "metadata": {},
   "source": [
    "Dobrým pomocníkem je balík [scikits-learn (sklearn)](http://scikit-learn.org/dev/user_guide.html)."
   ]
  },
  {
   "cell_type": "code",
   "execution_count": 1,
   "metadata": {
    "collapsed": false
   },
   "outputs": [
    {
     "name": "stdout",
     "output_type": "stream",
     "text": [
      "Populating the interactive namespace from numpy and matplotlib\n"
     ]
    }
   ],
   "source": [
    "%pylab inline --no-import-all\n",
    "from sklearn import datasets\n",
    "import numpy as np"
   ]
  },
  {
   "cell_type": "markdown",
   "metadata": {},
   "source": [
    "Načtení trénovacích dat. Jde o kosatec (iris flower) a jeho tři poddruhy: Iris setosa, \n",
    "Iris versicolor, Iris virginica. Měří se délka kalichu, šířka kalichu, délka okvětního lístku a šířka okvětního lístku.\n",
    "\n",
    "![iris](http://scipy-lectures.github.io/_images/Virginia_Iris.png)"
   ]
  },
  {
   "cell_type": "code",
   "execution_count": 8,
   "metadata": {
    "collapsed": false
   },
   "outputs": [
    {
     "name": "stdout",
     "output_type": "stream",
     "text": [
      "[0 1 2]\n",
      "(150, 4)\n",
      "[[ 6.7  3.1  5.6  2.4]\n",
      " [ 6.9  3.1  5.1  2.3]\n",
      " [ 5.8  2.7  5.1  1.9]\n",
      " [ 6.8  3.2  5.9  2.3]\n",
      " [ 6.7  3.3  5.7  2.5]\n",
      " [ 6.7  3.   5.2  2.3]\n",
      " [ 6.3  2.5  5.   1.9]\n",
      " [ 6.5  3.   5.2  2. ]\n",
      " [ 6.2  3.4  5.4  2.3]\n",
      " [ 5.9  3.   5.1  1.8]]\n"
     ]
    }
   ],
   "source": [
    "iris = datasets.load_iris()\n",
    "# cílové třídy\n",
    "print np.unique(iris.target)\n",
    "# rozměry dat\n",
    "print iris.data.shape\n",
    "\n",
    "print iris.data[-10:,:]\n",
    "\n",
    "# print iris.target"
   ]
  },
  {
   "cell_type": "markdown",
   "metadata": {},
   "source": [
    "## Klasifikátor podle K-nejbližšího souseda"
   ]
  },
  {
   "cell_type": "markdown",
   "metadata": {},
   "source": [
    "Nejbližší soused\n",
    "![NN](http://www.kky.zcu.cz/uploads/courses/zdo/lesson8/5.jpg)\n",
    "\n",
    "K - nejbližší soused\n",
    "![KNN](http://www.kky.zcu.cz/uploads/courses/zdo/lesson8/6.jpg)\n",
    "\n",
    "Počítání minimální vzdálenosti\n",
    "![minimální vzdálenost](http://www.kky.zcu.cz/uploads/courses/zdo/lesson8/7.jpg)\n"
   ]
  },
  {
   "cell_type": "code",
   "execution_count": 3,
   "metadata": {
    "collapsed": false
   },
   "outputs": [
    {
     "name": "stdout",
     "output_type": "stream",
     "text": [
      "[0]\n"
     ]
    }
   ],
   "source": [
    "from sklearn import neighbors\n",
    "knn = neighbors.KNeighborsClassifier()\n",
    "knn.fit(iris.data, iris.target) \n",
    "#KNeighborsClassifier(...)\n",
    "predikce = knn.predict([[0.1, 0.2, 0.3, 0.4]])\n",
    "print predikce\n",
    "#array([0])"
   ]
  },
  {
   "cell_type": "markdown",
   "metadata": {},
   "source": [
    "![knn_classif](http://scipy-lectures.github.io/_images/iris_knn.png)"
   ]
  },
  {
   "cell_type": "markdown",
   "metadata": {},
   "source": [
    "## Trénovací a testovací sada"
   ]
  },
  {
   "cell_type": "markdown",
   "metadata": {},
   "source": [
    "Při experimentování je důležité rozdělit data na trénovací a testovací sadu. "
   ]
  },
  {
   "cell_type": "code",
   "execution_count": 4,
   "metadata": {
    "collapsed": false
   },
   "outputs": [
    {
     "name": "stderr",
     "output_type": "stream",
     "text": [
      "/usr/lib/pymodules/python2.7/sklearn/neighbors/base.py:23: UserWarning: kneighbors: neighbor k+1 and neighbor k have the same distance: results will be dependent on data order.\n",
      "  warnings.warn(msg)\n"
     ]
    },
    {
     "data": {
      "text/plain": [
       "0.97999999999999998"
      ]
     },
     "execution_count": 4,
     "metadata": {},
     "output_type": "execute_result"
    }
   ],
   "source": [
    "perm = np.random.permutation(iris.target.size)\n",
    "iris.data = iris.data[perm]\n",
    "iris.target = iris.target[perm]\n",
    "\n",
    "train_data = iris.data[:100]\n",
    "train_target = iris.target[:100]\n",
    "\n",
    "test_data = iris.data[100:]\n",
    "test_target = iris.target[100:]\n",
    "\n",
    "knn.fit(train_data, train_target) \n",
    "\n",
    "knn.score(test_data, test_target) "
   ]
  },
  {
   "cell_type": "markdown",
   "metadata": {},
   "source": [
    "## Bayessův klasifikátor"
   ]
  },
  {
   "cell_type": "markdown",
   "metadata": {},
   "source": [
    "$$P(x_i \\mid y) = \\frac{1}{\\sqrt{2\\pi\\sigma^2_y}} \\exp\\left(-\\frac{ (x_i - \\mu_y)^2}{2\\pi\\sigma^2_y}\\right)$$"
   ]
  },
  {
   "cell_type": "code",
   "execution_count": 5,
   "metadata": {
    "collapsed": false
   },
   "outputs": [
    {
     "name": "stdout",
     "output_type": "stream",
     "text": [
      "Number of mislabeled points : 2\n"
     ]
    }
   ],
   "source": [
    "import sklearn.naive_bayes\n",
    "gnb = sklearn.naive_bayes.GaussianNB()\n",
    "gnb.fit(train_data, train_target)\n",
    "y_pred = gnb.predict(test_data)\n",
    "print(\"Number of mislabeled points : %d\" % (test_target != y_pred).sum())"
   ]
  },
  {
   "cell_type": "markdown",
   "metadata": {},
   "source": [
    "## SVM klasifikátor"
   ]
  },
  {
   "cell_type": "markdown",
   "metadata": {},
   "source": [
    "Rozděluje data nadrovinou\n",
    "\n",
    "![svm](http://scipy-lectures.github.io/_images/svm_margin.png)"
   ]
  },
  {
   "cell_type": "code",
   "execution_count": 6,
   "metadata": {
    "collapsed": false
   },
   "outputs": [
    {
     "name": "stdout",
     "output_type": "stream",
     "text": [
      "Number of mislabeled points : 0\n"
     ]
    },
    {
     "name": "stderr",
     "output_type": "stream",
     "text": [
      "/usr/lib/pymodules/python2.7/sklearn/svm/classes.py:184: FutureWarning: SVM: scale_C will be True by default in scikit-learn 0.11\n",
      "  cache_size, scale_C)\n"
     ]
    }
   ],
   "source": [
    "from sklearn import svm\n",
    "svc = svm.SVC()\n",
    "svc.fit(train_data, train_target) \n",
    "y_pred = svc.predict(test_data)\n",
    "print(\"Number of mislabeled points : %d\" % (test_target != y_pred).sum())"
   ]
  },
  {
   "cell_type": "markdown",
   "metadata": {},
   "source": [
    "## Učení bez učitele"
   ]
  },
  {
   "cell_type": "markdown",
   "metadata": {},
   "source": [
    "Cílem je rodělit obrazy bez další informace do skupin - shluků\n",
    "\n",
    "Vstup\n",
    "![bez ucitele vstup](http://www.kky.zcu.cz/uploads/courses/zdo/lesson8/2.jpg)\n",
    "\n",
    "výstup\n",
    "![kmeans výstup](http://www.kky.zcu.cz/uploads/courses/zdo/lesson8/3.jpg)\n",
    "\n",
    "Pro jednoduché případy lze použít algoritmus K-Means. Pro složitější natrénování Bayessova klasifikátoru je využíván EM-algoritmus."
   ]
  },
  {
   "cell_type": "markdown",
   "metadata": {},
   "source": [
    "## příklad z kamery"
   ]
  },
  {
   "cell_type": "code",
   "execution_count": 46,
   "metadata": {
    "collapsed": false
   },
   "outputs": [
    {
     "data": {
      "image/png": "[encoded data removed]",
      "text/plain": [
       "<matplotlib.figure.Figure at 0x7f366e535ed0>"
      ]
     },
     "metadata": {},
     "output_type": "display_data"
    },
    {
     "name": "stdout",
     "output_type": "stream",
     "text": [
      "[-1  0  1  2  3  4  5  6  7  8]\n"
     ]
    },
    {
     "data": {
      "text/plain": [
       "[[374.53405460951763, 7824.0],\n",
       " [355.52900397563428, 7538.0],\n",
       " [356.42640687119285, 7883.0],\n",
       " [562.90158697766469, 6992.0],\n",
       " [564.8843430349616, 7002.0],\n",
       " [557.12698372208092, 6975.0],\n",
       " [163.4386001800126, 1969.0],\n",
       " [166.02438661763949, 2023.0],\n",
       " [167.4386001800126, 2056.0]]"
      ]
     },
     "execution_count": 46,
     "metadata": {},
     "output_type": "execute_result"
    },
    {
     "data": {
      "image/png": "[encoded data removed]",
      "text/plain": [
       "<matplotlib.figure.Figure at 0x7f366e356610>"
      ]
     },
     "metadata": {},
     "output_type": "display_data"
    },
    {
     "data": {
      "image/png": "[encoded data removed]",
      "text/plain": [
       "<matplotlib.figure.Figure at 0x7f36641086d0>"
      ]
     },
     "metadata": {},
     "output_type": "display_data"
    }
   ],
   "source": [
    "import scipy\n",
    "import urllib\n",
    "import cStringIO\n",
    "import skimage\n",
    "import skimage.color\n",
    "import skimage.filter\n",
    "import skimage.measure\n",
    "from sklearn import svm\n",
    "\n",
    "\n",
    "# URL = \"http://uc452cam01-kky.fav.zcu.cz/snapshot.jpg\"\n",
    "URL = \"https://raw.githubusercontent.com/mjirik/ZDO/master/objekty/ctverce_hvezdy_kolecka.jpg\"\n",
    "\n",
    "\n"
   ]
  },
  {
   "cell_type": "code",
   "execution_count": 48,
   "metadata": {
    "collapsed": false
   },
   "outputs": [
    {
     "name": "stdout",
     "output_type": "stream",
     "text": [
      "[-1  0  1  2]\n",
      "predikce  [0 2 2]\n"
     ]
    },
    {
     "data": {
      "text/plain": [
       "[[373.20310216782974, 7889.0],\n",
       " [553.73001410241091, 6896.0],\n",
       " [165.19595949289334, 2021.0]]"
      ]
     },
     "execution_count": 48,
     "metadata": {},
     "output_type": "execute_result"
    }
   ],
   "source": [
    "# testujeme\n",
    "URL = \"https://raw.githubusercontent.com/mjirik/ZDO/master/objekty/15.jpg\"\n",
    "\n",
    "\n",
    "\n",
    "file = cStringIO.StringIO(urllib.urlopen(URL).read())\n",
    "\n",
    "im = scipy.misc.imread(file)\n",
    "img = skimage.color.rgb2gray(im)\n",
    "\n",
    "\n",
    "#filtered\n",
    "img = skimage.filter.gaussian_filter(img, 2)\n",
    "thr = skimage.filter.threshold_otsu(img)\n",
    "imthr = img > thr\n",
    "imlab = skimage.measure.label(imthr, background=0)\n",
    "\n",
    "print np.unique(imlab)\n",
    "props = skimage.measure.regionprops(imlab + 1)\n",
    "\n",
    "test_data = []\n",
    "for pr in props:\n",
    "    \n",
    "    test_data.append(\n",
    "        [pr.perimeter, pr.area]\n",
    "    )\n",
    "y_pred = svc.predict(test_data)\n",
    "print \"predikce \", y_pred\n",
    "test_data"
   ]
  },
  {
   "cell_type": "markdown",
   "metadata": {},
   "source": [
    "# Analýza pohybu"
   ]
  },
  {
   "cell_type": "markdown",
   "metadata": {},
   "source": [
    "![im](http://www.kky.zcu.cz/uploads/courses/zdo/lesson8/12.jpg)\n",
    "![im](http://www.kky.zcu.cz/uploads/courses/zdo/lesson8/11.jpg)\n",
    "\n",
    "rozdílový obraz\n",
    "\n",
    "![im](http://www.kky.zcu.cz/uploads/courses/zdo/lesson8/9.jpg)\n",
    "\n",
    "kumulativní obraz\n",
    "\n",
    "![im](http://www.kky.zcu.cz/uploads/courses/zdo/lesson8/10.jpg)\n",
    "\n",
    "\n",
    "Klíčové body\n",
    "\n",
    "![im](http://www.kky.zcu.cz/uploads/courses/zdo/lesson8/8.jpg)\n",
    "\n",
    "\n"
   ]
  },
  {
   "cell_type": "markdown",
   "metadata": {},
   "source": [
    "## Tracking"
   ]
  },
  {
   "cell_type": "markdown",
   "metadata": {},
   "source": [
    "* detekce\n",
    "* sledování\n",
    "\n",
    "http://openeuroscience.com/software/computer-vision-and-motion-tracking-software/"
   ]
  }
 ],
 "metadata": {
  "kernelspec": {
   "display_name": "Python 2",
   "language": "python",
   "name": "python2"
  },
  "language_info": {
   "codemirror_mode": {
    "name": "ipython",
    "version": 2
   },
   "file_extension": ".py",
   "mimetype": "text/x-python",
   "name": "python",
   "nbconvert_exporter": "python",
   "pygments_lexer": "ipython2",
   "version": "2.7.11"
  }
 },
 "nbformat": 4,
 "nbformat_minor": 0
}
