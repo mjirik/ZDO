{
 "metadata": {
  "name": ""
 },
 "nbformat": 3,
 "nbformat_minor": 0,
 "worksheets": [
  {
   "cells": [
    {
     "cell_type": "heading",
     "level": 1,
     "metadata": {},
     "source": [
      "Klasifik\u00e1tory"
     ]
    },
    {
     "cell_type": "markdown",
     "metadata": {},
     "source": [
      "N\u011bkolik typ\u016f klasifik\u00e1tor\u016f:\n",
      "\n",
      "* Nejbli\u017e\u0161\u00ed soused (KNN)\n",
      "* Bayess\u016fv klasifik\u00e1tor \n",
      "* Support Vector Machine (SVM)\n",
      "\n",
      "Dva z\u00e1kladn\u00ed typy u\u010den\u00ed:\n",
      "\n",
      "* S u\u010ditelem (Supervised learning)\n",
      "* Bez u\u010ditele (Unsupervised learning)\n",
      "    "
     ]
    },
    {
     "cell_type": "heading",
     "level": 2,
     "metadata": {},
     "source": [
      "Klasifik\u00e1tory v Pythonu"
     ]
    },
    {
     "cell_type": "markdown",
     "metadata": {},
     "source": [
      "Dobr\u00fdm pomocn\u00edkem je bal\u00edk [scikits-learn (sklearn)](http://scikit-learn.org/dev/user_guide.html)."
     ]
    },
    {
     "cell_type": "code",
     "collapsed": false,
     "input": [
      "%pylab inline --no-import-all\n",
      "from sklearn import datasets\n",
      "import numpy as np"
     ],
     "language": "python",
     "metadata": {},
     "outputs": [
      {
       "output_type": "stream",
       "stream": "stdout",
       "text": [
        "Populating the interactive namespace from numpy and matplotlib\n"
       ]
      }
     ],
     "prompt_number": 1
    },
    {
     "cell_type": "markdown",
     "metadata": {},
     "source": [
      "Na\u010dten\u00ed tr\u00e9novac\u00edch dat. Jde o kosatec (iris flower) a jeho t\u0159i poddruhy: Iris setosa, \n",
      "Iris versicolor, Iris virginica. M\u011b\u0159\u00ed se d\u00e9lka kalichu, \u0161\u00ed\u0159ka kalichu, d\u00e9lka okv\u011btn\u00edho l\u00edstku a \u0161\u00ed\u0159ka okv\u011btn\u00edho l\u00edstku.\n",
      "\n",
      "![iris](http://scipy-lectures.github.io/_images/Virginia_Iris.png)"
     ]
    },
    {
     "cell_type": "code",
     "collapsed": false,
     "input": [
      "iris = datasets.load_iris()\n",
      "# c\u00edlov\u00e9 t\u0159\u00eddy\n",
      "print np.unique(iris.target)\n",
      "# rozm\u011bry dat\n",
      "print iris.data.shape\n",
      "\n",
      "print iris.data[:10,:]\n"
     ],
     "language": "python",
     "metadata": {},
     "outputs": [
      {
       "output_type": "stream",
       "stream": "stdout",
       "text": [
        "[0 1 2]\n",
        "(150, 4)\n",
        "[[ 5.1  3.5  1.4  0.2]\n",
        " [ 4.9  3.   1.4  0.2]\n",
        " [ 4.7  3.2  1.3  0.2]\n",
        " [ 4.6  3.1  1.5  0.2]\n",
        " [ 5.   3.6  1.4  0.2]\n",
        " [ 5.4  3.9  1.7  0.4]\n",
        " [ 4.6  3.4  1.4  0.3]\n",
        " [ 5.   3.4  1.5  0.2]\n",
        " [ 4.4  2.9  1.4  0.2]\n",
        " [ 4.9  3.1  1.5  0.1]]\n",
        "[0 0 0 0 0 0 0 0 0 0]\n"
       ]
      }
     ],
     "prompt_number": 6
    },
    {
     "cell_type": "heading",
     "level": 2,
     "metadata": {},
     "source": [
      "Klasifik\u00e1tor podle K-nejbli\u017e\u0161\u00edho souseda"
     ]
    },
    {
     "cell_type": "markdown",
     "metadata": {},
     "source": [
      "Nejbli\u017e\u0161\u00ed soused\n",
      "![NN](http://www.kky.zcu.cz/uploads/courses/zdo/lesson8/5.jpg)\n",
      "\n",
      "K - nejbli\u017e\u0161\u00ed soused\n",
      "![KNN](http://www.kky.zcu.cz/uploads/courses/zdo/lesson8/6.jpg)\n",
      "\n",
      "Po\u010d\u00edt\u00e1n\u00ed minim\u00e1ln\u00ed vzd\u00e1lenosti\n",
      "![minim\u00e1ln\u00ed vzd\u00e1lenost](http://www.kky.zcu.cz/uploads/courses/zdo/lesson8/7.jpg)\n"
     ]
    },
    {
     "cell_type": "code",
     "collapsed": false,
     "input": [
      "from sklearn import neighbors\n",
      "knn = neighbors.KNeighborsClassifier()\n",
      "knn.fit(iris.data, iris.target) \n",
      "#KNeighborsClassifier(...)\n",
      "predikce = knn.predict([[0.1, 0.2, 0.3, 0.4]])\n",
      "print predikce\n",
      "#array([0])"
     ],
     "language": "python",
     "metadata": {},
     "outputs": [
      {
       "output_type": "stream",
       "stream": "stdout",
       "text": [
        "[0]\n"
       ]
      }
     ],
     "prompt_number": 8
    },
    {
     "cell_type": "markdown",
     "metadata": {},
     "source": [
      "![knn_classif](http://scipy-lectures.github.io/_images/iris_knn.png)"
     ]
    },
    {
     "cell_type": "heading",
     "level": 2,
     "metadata": {},
     "source": [
      "Tr\u00e9novac\u00ed a testovac\u00ed sada"
     ]
    },
    {
     "cell_type": "markdown",
     "metadata": {},
     "source": [
      "P\u0159i experimentov\u00e1n\u00ed je d\u016fle\u017eit\u00e9 rozd\u011blit data na tr\u00e9novac\u00ed a testovac\u00ed sadu. "
     ]
    },
    {
     "cell_type": "code",
     "collapsed": false,
     "input": [
      "perm = np.random.permutation(iris.target.size)\n",
      "iris.data = iris.data[perm]\n",
      "iris.target = iris.target[perm]\n",
      "\n",
      "train_data = iris.data[:100]\n",
      "train_target = iris.target[:100]\n",
      "\n",
      "test_data = iris.data[100:]\n",
      "test_target = iris.target[100:]\n",
      "\n",
      "knn.fit(train_data, train_target) \n",
      "\n",
      "knn.score(test_data, test_target) "
     ],
     "language": "python",
     "metadata": {},
     "outputs": [
      {
       "metadata": {},
       "output_type": "pyout",
       "prompt_number": 13,
       "text": [
        "0.97999999999999998"
       ]
      }
     ],
     "prompt_number": 13
    },
    {
     "cell_type": "heading",
     "level": 2,
     "metadata": {},
     "source": [
      "Bayess\u016fv klasifik\u00e1tor"
     ]
    },
    {
     "cell_type": "markdown",
     "metadata": {},
     "source": [
      "$$P(x_i \\mid y) = \\frac{1}{\\sqrt{2\\pi\\sigma^2_y}} \\exp\\left(-\\frac{ (x_i - \\mu_y)^2}{2\\pi\\sigma^2_y}\\right)$$"
     ]
    },
    {
     "cell_type": "code",
     "collapsed": false,
     "input": [
      "import sklearn.naive_bayes\n",
      "gnb = sklearn.naive_bayes.GaussianNB()\n",
      "gnb.fit(train_data, train_target)\n",
      "y_pred = gnb.predict(test_data)\n",
      "print(\"Number of mislabeled points : %d\" % (test_target != y_pred).sum())"
     ],
     "language": "python",
     "metadata": {},
     "outputs": [
      {
       "output_type": "stream",
       "stream": "stdout",
       "text": [
        "Number of mislabeled points : 1\n"
       ]
      }
     ],
     "prompt_number": 17
    },
    {
     "cell_type": "heading",
     "level": 2,
     "metadata": {},
     "source": [
      "SVM klasifik\u00e1tor"
     ]
    },
    {
     "cell_type": "markdown",
     "metadata": {},
     "source": [
      "Rozd\u011bluje data nadrovinou\n",
      "\n",
      "![svm](http://scipy-lectures.github.io/_images/svm_margin.png)"
     ]
    },
    {
     "cell_type": "code",
     "collapsed": false,
     "input": [
      "from sklearn import svm\n",
      "svc = svm.SVC()\n",
      "svc.fit(train_data, train_target) \n",
      "y_pred = svc.predict(test_data)\n",
      "print(\"Number of mislabeled points : %d\" % (test_target != y_pred).sum())"
     ],
     "language": "python",
     "metadata": {},
     "outputs": [
      {
       "output_type": "stream",
       "stream": "stdout",
       "text": [
        "Number of mislabeled points : 1\n"
       ]
      }
     ],
     "prompt_number": 18
    },
    {
     "cell_type": "heading",
     "level": 2,
     "metadata": {},
     "source": [
      "U\u010den\u00ed bez u\u010ditele"
     ]
    },
    {
     "cell_type": "markdown",
     "metadata": {},
     "source": [
      "C\u00edlem je rod\u011blit obrazy bez dal\u0161\u00ed informace do skupin - shluk\u016f\n",
      "\n",
      "Vstup\n",
      "![bez ucitele vstup](http://www.kky.zcu.cz/uploads/courses/zdo/lesson8/2.jpg)\n",
      "\n",
      "v\u00fdstup\n",
      "![kmeans v\u00fdstup](http://www.kky.zcu.cz/uploads/courses/zdo/lesson8/3.jpg)\n",
      "\n",
      "Pro shluky s "
     ]
    }
   ],
   "metadata": {}
  }
 ]
}