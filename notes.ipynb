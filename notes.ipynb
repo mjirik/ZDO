{
 "cells": [
  {
   "cell_type": "markdown",
   "metadata": {},
   "source": [
    "# Možné drobné úkoly"
   ]
  },
  {
   "cell_type": "markdown",
   "metadata": {},
   "source": [
    "Segmentace:\n",
    "\n",
    "* spočítat papírky\n",
    "* spočítat světlé papírky\n",
    "* spočítat červené papírky\n",
    "* spočítat papírky, které se dotýkají\n",
    "* Nakreslenému panáčkovi vymazat ruce (FT)\n",
    "* Odstranit mříže na nakresleném obrázku"
   ]
  },
  {
   "cell_type": "code",
   "execution_count": null,
   "metadata": {
    "collapsed": true
   },
   "outputs": [],
   "source": [
    "Řešení klasifikace"
   ]
  },
  {
   "cell_type": "code",
   "execution_count": null,
   "metadata": {
    "collapsed": true
   },
   "outputs": [],
   "source": [
    "import scipy\n",
    "import urllib\n",
    "import cStringIO\n",
    "import skimage\n",
    "import skimage.color\n",
    "import skimage.filter\n",
    "import skimage.measure\n",
    "from sklearn import svm\n",
    "\n",
    "\n",
    "# URL = \"http://uc452cam01-kky.fav.zcu.cz/snapshot.jpg\"\n",
    "URL = \"https://raw.githubusercontent.com/mjirik/ZDO/master/objekty/ctverce_hvezdy_kolecka.jpg\"\n",
    "\n",
    "\n",
    "file = cStringIO.StringIO(urllib.urlopen(URL).read())\n",
    "\n",
    "im = scipy.misc.imread(file)\n",
    "img = skimage.color.rgb2gray(im)\n",
    "plt.figure(figsize=(5,5))\n",
    "\n",
    "plt.imshow(img)\n",
    "plt.show()\n",
    "\n",
    "#filtered\n",
    "img = skimage.filter.gaussian_filter(img, 2)\n",
    "\n",
    "# val = filter.threshold_otsu(camera)\n",
    "thr = skimage.filter.threshold_otsu(img)\n",
    "\n",
    "imthr = img > thr\n",
    "plt.figure()\n",
    "plt.imshow(imthr)\n",
    "\n",
    "imlab = skimage.measure.label(imthr, background=0)\n",
    "\n",
    "plt.figure()\n",
    "plt.imshow(imlab, cmap='gray')\n",
    "\n",
    "print np.unique(imlab)\n",
    "props = skimage.measure.regionprops(imlab + 1)\n",
    "\n",
    "train_data = []\n",
    "for pr in props:\n",
    "    \n",
    "    train_data.append(\n",
    "        [pr.perimeter, pr.area]\n",
    "    )\n",
    "\n",
    "\n",
    "\n",
    "train_target = [0,0,0,1,1,1,2,2,2]\n",
    "\n",
    "svc = svm.SVC()\n",
    "svc.fit(train_data, train_target) \n",
    "train_data"
   ]
  }
 ],
 "metadata": {
  "kernelspec": {
   "display_name": "Python 2",
   "language": "python",
   "name": "python2"
  },
  "language_info": {
   "codemirror_mode": {
    "name": "ipython",
    "version": 2
   },
   "file_extension": ".py",
   "mimetype": "text/x-python",
   "name": "python",
   "nbconvert_exporter": "python",
   "pygments_lexer": "ipython2",
   "version": "2.7.11"
  }
 },
 "nbformat": 4,
 "nbformat_minor": 0
}
