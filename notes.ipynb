{
 "metadata": {
  "name": ""
 },
 "nbformat": 3,
 "nbformat_minor": 0,
 "worksheets": [
  {
   "cells": [
    {
     "cell_type": "heading",
     "level": 1,
     "metadata": {},
     "source": [
      "Mo\u017en\u00e9 drobn\u00e9 \u00fakoly"
     ]
    },
    {
     "cell_type": "markdown",
     "metadata": {},
     "source": [
      "Segmentace:\n",
      "\n",
      "* spo\u010d\u00edtat pap\u00edrky\n",
      "* spo\u010d\u00edtat sv\u011btl\u00e9 pap\u00edrky\n",
      "* spo\u010d\u00edtat \u010derven\u00e9 pap\u00edrky\n",
      "* spo\u010d\u00edtat pap\u00edrky, kter\u00e9 se dot\u00fdkaj\u00ed\n",
      "* Nakreslen\u00e9mu pan\u00e1\u010dkovi vymazat ruce (FT)\n",
      "* Odstranit m\u0159\u00ed\u017ee na nakreslen\u00e9m obr\u00e1zku"
     ]
    }
   ],
   "metadata": {}
  }
 ]
}