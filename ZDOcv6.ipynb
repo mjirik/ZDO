{
 "metadata": {
  "name": ""
 },
 "nbformat": 3,
 "nbformat_minor": 0,
 "worksheets": [
  {
   "cells": [
    {
     "cell_type": "heading",
     "level": 1,
     "metadata": {},
     "source": [
      "Morfologick\u00e9 operace"
     ]
    },
    {
     "cell_type": "markdown",
     "metadata": {},
     "source": [
      "Vstup: bin\u00e1rn\u00ed obraz nebo obraz s v\u00edce \u00farovn\u011bmi jasu\n",
      "\n",
      "V\u00fdstup: bin\u00e1rn\u00ed obraz nebo obraz s v\u00edce \u00farovn\u011bmi jasu\n",
      "\n",
      "C\u00edl: tvar objekt\u016f\n",
      "\n",
      "Vlastnosti: snadn\u00e9 a rychl\u00e9 p\u0159edzpracov\u00e1n\u00ed\n",
      "\n",
      "![input_image](http://www.kky.zcu.cz/uploads/courses/zdo/lesson5/original.jpg)"
     ]
    },
    {
     "cell_type": "code",
     "collapsed": false,
     "input": [
      "%pylab inline --no-import-all\n",
      "import skimage\n",
      "import skimage.io\n",
      "import skimage.color\n",
      "import skimage.morphology\n",
      "\n",
      "import matplotlib.pyplot as plt\n",
      "\n",
      "import numpy as np\n",
      "\n",
      "import scipy\n",
      "import scipy.ndimage\n"
     ],
     "language": "python",
     "metadata": {},
     "outputs": [
      {
       "output_type": "stream",
       "stream": "stdout",
       "text": [
        "Populating the interactive namespace from numpy and matplotlib\n"
       ]
      }
     ],
     "prompt_number": 121
    },
    {
     "cell_type": "code",
     "collapsed": false,
     "input": [
      "# thresholding - prahov\u00e1n\u00ed\n",
      "text_color = skimage.io.imread('http://www.kky.zcu.cz/uploads/courses/zdo/lesson5/original.jpg')\n",
      "text_gray = skimage.color.rgb2gray(text_color)\n",
      "textb = text_gray > 0.5\n",
      "plt.imshow(textb, cmap='gray')\n"
     ],
     "language": "python",
     "metadata": {},
     "outputs": [
      {
       "metadata": {},
       "output_type": "pyout",
       "prompt_number": 82,
       "text": [
        "<matplotlib.image.AxesImage at 0x9b279d0>"
       ]
      },
      {
       "metadata": {},
       "output_type": "display_data",
       "png": "[encoded data removed]",
       "text": [
        "<matplotlib.figure.Figure at 0x9605510>"
       ]
      }
     ],
     "prompt_number": 82
    },
    {
     "cell_type": "heading",
     "level": 2,
     "metadata": {},
     "source": [
      "Bin\u00e1rn\u00ed dilatace"
     ]
    },
    {
     "cell_type": "code",
     "collapsed": false,
     "input": [
      "a = np.zeros((5,5), dtype=np.int)\n",
      "a[2, 2] = 1\n",
      "#a[1:6, 2:5] = 1\n",
      "print 'input \\n', a\n",
      "\n",
      "kernel = skimage.morphology.diamond(1).astype(np.uint8)\n",
      "\n",
      "print 'kernel \\n', kernel\n",
      "\n",
      "ad = skimage.morphology.binary_dilation(a, kernel)\n",
      "print 'dilation \\n', ad\n",
      "#dir(skimage.morphology)\n",
      "\n",
      "#skimage.morphology.binary_dilation(a, morphology.diamond(1)).astype(np.uint8)"
     ],
     "language": "python",
     "metadata": {},
     "outputs": [
      {
       "output_type": "stream",
       "stream": "stdout",
       "text": [
        "input \n",
        "[[0 0 0 0 0]\n",
        " [0 0 0 0 0]\n",
        " [0 0 1 0 0]\n",
        " [0 0 0 0 0]\n",
        " [0 0 0 0 0]]\n",
        "kernel \n",
        "[[0 1 0]\n",
        " [1 1 1]\n",
        " [0 1 0]]\n",
        "dilation \n",
        "[[0 0 0 0 0]\n",
        " [0 0 1 0 0]\n",
        " [0 1 1 1 0]\n",
        " [0 0 1 0 0]\n",
        " [0 0 0 0 0]]\n"
       ]
      }
     ],
     "prompt_number": 83
    },
    {
     "cell_type": "code",
     "collapsed": false,
     "input": [
      "kernel_big = skimage.morphology.diamond(5).astype(np.uint8)\n",
      "textd = skimage.morphology.binary_dilation(textb, kernel_big)\n",
      "plt.imshow(textd, cmap='gray')"
     ],
     "language": "python",
     "metadata": {},
     "outputs": [
      {
       "metadata": {},
       "output_type": "pyout",
       "prompt_number": 84,
       "text": [
        "<matplotlib.image.AxesImage at 0x7570dd0>"
       ]
      },
      {
       "metadata": {},
       "output_type": "display_data",
       "png": "[encoded data removed]",
       "text": [
        "<matplotlib.figure.Figure at 0x8b14550>"
       ]
      }
     ],
     "prompt_number": 84
    },
    {
     "cell_type": "heading",
     "level": 2,
     "metadata": {},
     "source": [
      "Bin\u00e1rn\u00ed eroze"
     ]
    },
    {
     "cell_type": "code",
     "collapsed": false,
     "input": [
      "a = np.zeros((7,7), dtype=np.int)\n",
      "a[1:6, 2:5] = 1\n",
      "print 'input \\n', a\n",
      "\n",
      "\n",
      "ad = skimage.morphology.binary_erosion(a, kernel)\n",
      "print 'erosion \\n', ad\n"
     ],
     "language": "python",
     "metadata": {},
     "outputs": [
      {
       "output_type": "stream",
       "stream": "stdout",
       "text": [
        "input \n",
        "[[0 0 0 0 0 0 0]\n",
        " [0 0 1 1 1 0 0]\n",
        " [0 0 1 1 1 0 0]\n",
        " [0 0 1 1 1 0 0]\n",
        " [0 0 1 1 1 0 0]\n",
        " [0 0 1 1 1 0 0]\n",
        " [0 0 0 0 0 0 0]]\n",
        "erosion \n",
        "[[0 0 0 0 0 0 0]\n",
        " [0 0 0 0 0 0 0]\n",
        " [0 0 0 1 0 0 0]\n",
        " [0 0 0 1 0 0 0]\n",
        " [0 0 0 1 0 0 0]\n",
        " [0 0 0 0 0 0 0]\n",
        " [0 0 0 0 0 0 0]]\n"
       ]
      }
     ],
     "prompt_number": 85
    },
    {
     "cell_type": "code",
     "collapsed": false,
     "input": [
      "#kernel_big = skimage.morphology.diamond(3).astype(np.uint8)\n",
      "textd = skimage.morphology.binary_erosion(textb, kernel_big)\n",
      "plt.imshow(textd, cmap='gray')"
     ],
     "language": "python",
     "metadata": {},
     "outputs": [
      {
       "metadata": {},
       "output_type": "pyout",
       "prompt_number": 86,
       "text": [
        "<matplotlib.image.AxesImage at 0xa030f10>"
       ]
      },
      {
       "metadata": {},
       "output_type": "display_data",
       "png": "[encoded data removed]",
       "text": [
        "<matplotlib.figure.Figure at 0x9b066d0>"
       ]
      }
     ],
     "prompt_number": 86
    },
    {
     "cell_type": "heading",
     "level": 2,
     "metadata": {},
     "source": [
      "Bin\u00e1rn\u00ed otev\u0159en\u00ed a uzav\u0159en\u00ed"
     ]
    },
    {
     "cell_type": "markdown",
     "metadata": {},
     "source": [
      "Kombinace obou p\u0159edchoz\u00edch metod\n",
      "\n",
      "* Otev\u0159en\u00ed - eroze + dilatace\n",
      "* Uzav\u0159en\u00ed - dilatace + eroze"
     ]
    },
    {
     "cell_type": "code",
     "collapsed": false,
     "input": [
      "# Otev\u0159en\u00ed\n",
      "#kernel_big = skimage.morphology.diamond(4).astype(np.uint8)\n",
      "textd = skimage.morphology.binary_opening(textb, kernel_big)\n",
      "\n",
      "#plt.subplot(121)\n",
      "#plt.imshow(textb, cmap='gray')\n",
      "#plt.subplot(122)\n",
      "plt.imshow(textd, cmap='gray')"
     ],
     "language": "python",
     "metadata": {},
     "outputs": [
      {
       "metadata": {},
       "output_type": "pyout",
       "prompt_number": 87,
       "text": [
        "<matplotlib.image.AxesImage at 0xa5562d0>"
       ]
      },
      {
       "metadata": {},
       "output_type": "display_data",
       "png": "[encoded data removed]",
       "text": [
        "<matplotlib.figure.Figure at 0xa01a090>"
       ]
      }
     ],
     "prompt_number": 87
    },
    {
     "cell_type": "code",
     "collapsed": false,
     "input": [
      "# Uzav\u0159en\u00ed\n",
      "textd = skimage.morphology.binary_closing(textb, kernel_big)\n",
      "plt.imshow(textd, cmap='gray')"
     ],
     "language": "python",
     "metadata": {},
     "outputs": [
      {
       "metadata": {},
       "output_type": "pyout",
       "prompt_number": 88,
       "text": [
        "<matplotlib.image.AxesImage at 0xa8316d0>"
       ]
      },
      {
       "metadata": {},
       "output_type": "display_data",
       "png": "[encoded data removed]",
       "text": [
        "<matplotlib.figure.Figure at 0x7544ed0>"
       ]
      }
     ],
     "prompt_number": 88
    },
    {
     "cell_type": "heading",
     "level": 2,
     "metadata": {},
     "source": [
      "Kostra (Skeleton)"
     ]
    },
    {
     "cell_type": "code",
     "collapsed": false,
     "input": [
      "a = np.zeros((200, 300), dtype=np.int)\n",
      "#a[1:6, 2:5] = 1\n",
      "a[50:100, 50:200] = 1\n",
      "a[30:150, 100:150] = 1\n",
      "\n",
      "skela = skimage.morphology.skeletonize(a)\n",
      "\n",
      "\n",
      "plt.figure(figsize=(9, 4))\n",
      "plt.subplot(121)\n",
      "plt.imshow(a, cmap='gray')\n",
      "plt.subplot(122)\n",
      "plt.imshow(skela, cmap='gray')"
     ],
     "language": "python",
     "metadata": {},
     "outputs": [
      {
       "metadata": {},
       "output_type": "pyout",
       "prompt_number": 116,
       "text": [
        "<matplotlib.image.AxesImage at 0xf744590>"
       ]
      },
      {
       "metadata": {},
       "output_type": "display_data",
       "png": "[encoded data removed]",
       "text": [
        "<matplotlib.figure.Figure at 0xefb1dd0>"
       ]
      }
     ],
     "prompt_number": 116
    },
    {
     "cell_type": "code",
     "collapsed": false,
     "input": [
      "textd = skimage.morphology.skeletonize(textb)\n",
      "plt.imshow(textd, cmap='gray')"
     ],
     "language": "python",
     "metadata": {},
     "outputs": [
      {
       "metadata": {},
       "output_type": "pyout",
       "prompt_number": 90,
       "text": [
        "<matplotlib.image.AxesImage at 0xa8647d0>"
       ]
      },
      {
       "metadata": {},
       "output_type": "display_data",
       "png": "[encoded data removed]",
       "text": [
        "<matplotlib.figure.Figure at 0x951e150>"
       ]
      }
     ],
     "prompt_number": 90
    },
    {
     "cell_type": "heading",
     "level": 2,
     "metadata": {},
     "source": [
      "Vypln\u011bn\u00ed d\u011br (Fill holes)"
     ]
    },
    {
     "cell_type": "code",
     "collapsed": false,
     "input": [
      "texth = scipy.ndimage.morphology.binary_fill_holes(textb)\n",
      "plt.imshow(texth, cmap='gray')"
     ],
     "language": "python",
     "metadata": {},
     "outputs": [
      {
       "metadata": {},
       "output_type": "pyout",
       "prompt_number": 123,
       "text": [
        "<matplotlib.image.AxesImage at 0xf9db890>"
       ]
      },
      {
       "metadata": {},
       "output_type": "display_data",
       "png": "[encoded data removed]",
       "text": [
        "<matplotlib.figure.Figure at 0xf37f190>"
       ]
      }
     ],
     "prompt_number": 123
    },
    {
     "cell_type": "heading",
     "level": 2,
     "metadata": {},
     "source": [
      "Cvi\u010den\u00ed"
     ]
    },
    {
     "cell_type": "markdown",
     "metadata": {},
     "source": [
      "Spo\u010d\u00edtejte \u010dtverce na obr\u00e1zku z kamery\n",
      "\n",
      "![ctverce](https://pojabr.zcu.cz/uploads/courses/zdo/lesson5/pocitani_ctvercu.jpg)"
     ]
    }
   ],
   "metadata": {}
  }
 ]
}