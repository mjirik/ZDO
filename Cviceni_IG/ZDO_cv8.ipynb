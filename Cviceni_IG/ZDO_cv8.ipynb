{
 "cells": [
  {
   "cell_type": "markdown",
   "metadata": {},
   "source": [
    "<center><img src=\"Logolink_OP_VVV_hor_barva_cz.jpg\" width=\"600px\"/></center>\n",
    "<center>ESF projekt Západočeské univerzity v Plzni reg. č. CZ.02.2.69/0.0/0.0/16 015/0002287</center>"
   ]
  },
  {
   "cell_type": "markdown",
   "metadata": {},
   "source": [
    "# Object Description"
   ]
  },
  {
   "cell_type": "markdown",
   "metadata": {},
   "source": [
    "Popis objektu - cílem je nalézt popis objektu, jež dostatečně vyjadřuje jeho vlastnosti. Použit  následně pro klasifikátor.\n",
    "\n",
    "Barvení oblastí - ekvalizace barev (kolize při obarvení).\n",
    "\n",
    "Freemanův řetězový kod - 4 okolí, 8 okolí\n",
    "\n",
    "Popis oblasti - velikost, pravoúhlost, podlouhlost\n",
    "\n",
    "Velikost - Dána počtem obrazových elementů\n",
    "\n",
    "Eulerovo cislo - E = S (počet souvislých částí) - N (počet děr)\n",
    "Výška, Šířka\n",
    "\n",
    "Výstřednost - poměr nejdelší tětivy a k ní nejdelší kolem tětivy\n",
    "\n",
    "Podlouhlost - poměr mezi délkou a šířkou pravoúhelníku opsaného oblasti, která má nejmenší plochu ze všech pravoúhelníků, které lze oblasti opsat\n",
    "\n",
    "Pravoúhlost - poměr mezi velikostí oblasti a plochou opsaného pravoúhelníka ve směru natočení\n",
    "\n",
    "Směr - smysl pro podlouhle oblasti\n",
    "\n",
    "Nekompaktnost - (délka_hranice_oblasti)na druhou/ velikost\n",
    "\n",
    "Konvexní obal - nejmenší opsaná konvexní oblast"
   ]
  },
  {
   "cell_type": "code",
   "execution_count": 1,
   "metadata": {},
   "outputs": [],
   "source": [
    "import skimage\n",
    "import skimage.io\n",
    "import skimage.morphology\n",
    "import skimage.measure\n",
    "import matplotlib.pyplot as plt\n",
    "import numpy as np"
   ]
  },
  {
   "cell_type": "code",
   "execution_count": 9,
   "metadata": {},
   "outputs": [
    {
     "data": {
      "text/plain": [
       "<matplotlib.image.AxesImage at 0x23018fca6d8>"
      ]
     },
     "execution_count": 9,
     "metadata": {},
     "output_type": "execute_result"
    },
    {
     "data": {
      "image/png": "[encoded data removed]",
      "text/plain": [
       "<Figure size 432x288 with 3 Axes>"
      ]
     },
     "metadata": {
      "needs_background": "light"
     },
     "output_type": "display_data"
    }
   ],
   "source": [
    "imrgb = skimage.io.imread('http://www.kky.zcu.cz/uploads/courses/zdo/lesson7/1.jpg')\n",
    "im = skimage.color.rgb2gray(imrgb) > 0.5\n",
    "\n",
    "imlabel0 = skimage.measure.label(im)\n",
    "\n",
    "imlabel1 = skimage.measure.label(im, background=0)\n",
    "\n",
    "plt.subplot(131)\n",
    "plt.title('orig')\n",
    "plt.imshow(im, cmap='gray')\n",
    "plt.subplot(132)\n",
    "plt.title('label')\n",
    "plt.imshow(imlabel0, cmap='gray')\n",
    "plt.subplot(133)\n",
    "plt.title('label\\n defined backgr.')\n",
    "plt.imshow(imlabel1, cmap='gray')"
   ]
  },
  {
   "cell_type": "code",
   "execution_count": 11,
   "metadata": {},
   "outputs": [
    {
     "name": "stdout",
     "output_type": "stream",
     "text": [
      "labels  [0 1 2]\n"
     ]
    },
    {
     "data": {
      "text/plain": [
       "<matplotlib.image.AxesImage at 0x23019148b70>"
      ]
     },
     "execution_count": 11,
     "metadata": {},
     "output_type": "execute_result"
    },
    {
     "data": {
      "image/png": "[encoded data removed]",
      "text/plain": [
       "<Figure size 432x288 with 3 Axes>"
      ]
     },
     "metadata": {
      "needs_background": "light"
     },
     "output_type": "display_data"
    }
   ],
   "source": [
    "print(\"labels \", np.unique(imlabel1))\n",
    "\n",
    "plt.subplot(131)\n",
    "plt.title('Object 0')\n",
    "plt.imshow(imlabel1==0, cmap='gray')\n",
    "plt.subplot(132)\n",
    "plt.title('Object 1')\n",
    "plt.imshow(imlabel1==1, cmap='gray')\n",
    "plt.subplot(133)\n",
    "plt.title('Object 2')\n",
    "plt.imshow(imlabel1==2, cmap='gray')"
   ]
  },
  {
   "cell_type": "code",
   "execution_count": 19,
   "metadata": {},
   "outputs": [
    {
     "name": "stdout",
     "output_type": "stream",
     "text": [
      "Centroid:  (62.486293379994166, 84.67264508603091)\n",
      "Area:  6858\n",
      "Euler:  -1\n",
      "Perimeter:  686.4823227814082\n"
     ]
    },
    {
     "data": {
      "image/png": "[encoded data removed]",
      "text/plain": [
       "<Figure size 432x288 with 1 Axes>"
      ]
     },
     "metadata": {
      "needs_background": "light"
     },
     "output_type": "display_data"
    }
   ],
   "source": [
    "props = skimage.measure.regionprops(imlabel1)\n",
    "object_number = 0\n",
    "print(\"Centroid: \", props[object_number].centroid)\n",
    "print(\"Area: \", props[object_number].area)\n",
    "print (\"Euler: \", props[object_number].euler_number)\n",
    "print (\"Perimeter: \", props[object_number].perimeter)\n",
    "ci = props[object_number].convex_image\n",
    "plt.imshow(ci)\n",
    "plt.show()"
   ]
  },
  {
   "cell_type": "code",
   "execution_count": 20,
   "metadata": {},
   "outputs": [
    {
     "name": "stdout",
     "output_type": "stream",
     "text": [
      "Centroid:  (113.5, 146.51309408341416)\n",
      "Area:  2062\n",
      "Euler:  1\n",
      "Perimeter:  179.19595949289334\n"
     ]
    },
    {
     "data": {
      "text/plain": [
       "<matplotlib.image.AxesImage at 0x230194cea58>"
      ]
     },
     "execution_count": 20,
     "metadata": {},
     "output_type": "execute_result"
    },
    {
     "data": {
      "image/png": "[encoded data removed]",
      "text/plain": [
       "<Figure size 432x288 with 1 Axes>"
      ]
     },
     "metadata": {
      "needs_background": "light"
     },
     "output_type": "display_data"
    }
   ],
   "source": [
    "props = skimage.measure.regionprops(imlabel1)\n",
    "\n",
    "object_number = 1\n",
    "print(\"Centroid: \", props[object_number].centroid)\n",
    "print (\"Area: \", props[object_number].area)\n",
    "print (\"Euler: \", props[object_number].euler_number)\n",
    "print (\"Perimeter: \", props[object_number].perimeter) \n",
    "ci = props[object_number].convex_image\n",
    "plt.imshow(ci)"
   ]
  },
  {
   "cell_type": "code",
   "execution_count": 21,
   "metadata": {},
   "outputs": [
    {
     "name": "stdout",
     "output_type": "stream",
     "text": [
      "Id:  0\n",
      "Centroid:  (62.486293379994166, 84.67264508603091)\n",
      "Area:  6858\n",
      "Euler:  -1\n",
      "\n",
      "Id:  1\n",
      "Centroid:  (113.5, 146.51309408341416)\n",
      "Area:  2062\n",
      "Euler:  1\n",
      "\n"
     ]
    }
   ],
   "source": [
    "for i in range(len(props)):\n",
    "    print(\"Id: \", i)\n",
    "    print(\"Centroid: \", props[i].centroid)\n",
    "    print(\"Area: \", props[i].area)\n",
    "    print(\"Euler: \", props[i].euler_number)\n",
    "    print (\"\")"
   ]
  },
  {
   "cell_type": "markdown",
   "metadata": {},
   "source": [
    "Bez pomoci props naprogramujte skript, ktery spocte plochu a obvod. Vykresli objekty s nejvetsim obvodem a nejvetsi plochou."
   ]
  }
 ],
 "metadata": {
  "kernelspec": {
   "display_name": "Python 3",
   "language": "python",
   "name": "python3"
  },
  "language_info": {
   "codemirror_mode": {
    "name": "ipython",
    "version": 3
   },
   "file_extension": ".py",
   "mimetype": "text/x-python",
   "name": "python",
   "nbconvert_exporter": "python",
   "pygments_lexer": "ipython3",
   "version": "3.6.7"
  }
 },
 "nbformat": 4,
 "nbformat_minor": 1
}
