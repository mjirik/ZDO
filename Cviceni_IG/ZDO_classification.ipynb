{
 "cells": [
  {
   "cell_type": "markdown",
   "metadata": {},
   "source": [
    "<center><img src=\"Logolink_OP_VVV_hor_barva_cz.jpg\" width=\"600px\"/></center>\n",
    "<center>ESF projekt Západočeské univerzity v Plzni reg. č. CZ.02.2.69/0.0/0.0/16 015/0002287</center>"
   ]
  },
  {
   "cell_type": "markdown",
   "metadata": {},
   "source": [
    "# Image Classification - clasical approaches"
   ]
  },
  {
   "cell_type": "markdown",
   "metadata": {},
   "source": [
    "Basic types of classifiers:\n",
    "- K-means\n",
    "- k-Nearest Neighbour\n",
    "- Bayesian classifier\n",
    "- Support Vector Machine"
   ]
  },
  {
   "cell_type": "markdown",
   "metadata": {},
   "source": [
    "Types of learning:\n",
    "- Supervised learning\n",
    "- Unsupervised learning\n",
    "- Reinforcement learning "
   ]
  },
  {
   "cell_type": "code",
   "execution_count": 1,
   "metadata": {},
   "outputs": [
    {
     "name": "stdout",
     "output_type": "stream",
     "text": [
      "Populating the interactive namespace from numpy and matplotlib\n"
     ]
    }
   ],
   "source": [
    "# scikit-learn \n",
    "%pylab inline --no-import-all\n",
    "from sklearn import datasets\n",
    "import numpy as np\n",
    "import sklearn.model_selection "
   ]
  },
  {
   "cell_type": "markdown",
   "metadata": {},
   "source": [
    "### Iris dataset\n",
    "- Načtení trénovacích dat. Jde o kosatec (iris flower) a jeho tři poddruhy: Iris setosa, Iris versicolor, Iris virginica. Měří se délka kalichu, šířka kalichu, délka okvětního lístku a šířka okvětního lístku."
   ]
  },
  {
   "cell_type": "code",
   "execution_count": 2,
   "metadata": {},
   "outputs": [
    {
     "name": "stdout",
     "output_type": "stream",
     "text": [
      "data  (150, 4)\n",
      "[[6.7 3.1 5.6 2.4]\n",
      " [6.9 3.1 5.1 2.3]\n",
      " [5.8 2.7 5.1 1.9]\n",
      " [6.8 3.2 5.9 2.3]\n",
      " [6.7 3.3 5.7 2.5]\n",
      " [6.7 3.  5.2 2.3]\n",
      " [6.3 2.5 5.  1.9]\n",
      " [6.5 3.  5.2 2. ]\n",
      " [6.2 3.4 5.4 2.3]\n",
      " [5.9 3.  5.1 1.8]]\n",
      "\n",
      "target (150,)\n",
      "[0 1 2]\n",
      "[2 2 2 2 2 2 2 2 2 2]\n"
     ]
    }
   ],
   "source": [
    "iris = datasets.load_iris()\n",
    "# cílové třídy\n",
    "# rozměry dat\n",
    "print(\"data \", iris.data.shape)\n",
    "print(iris.data[-10:,:])\n",
    "\n",
    "print(\"\")\n",
    "print(\"target\", iris.target.shape)\n",
    "print(np.unique(iris.target))\n",
    "print(iris.target[-10:])"
   ]
  },
  {
   "cell_type": "markdown",
   "metadata": {},
   "source": [
    "### k-Nearest Neighbour classifier"
   ]
  },
  {
   "cell_type": "code",
   "execution_count": 4,
   "metadata": {},
   "outputs": [
    {
     "name": "stdout",
     "output_type": "stream",
     "text": [
      "[0]\n"
     ]
    }
   ],
   "source": [
    "from sklearn import neighbors\n",
    "knn = neighbors.KNeighborsClassifier()\n",
    "knn.fit(iris.data, iris.target) \n",
    "#KNeighborsClassifier(...)\n",
    "predikce = knn.predict([[0.1, 0.2, 0.3, 0.4]])\n",
    "print(predikce)\n",
    "#array([0])"
   ]
  },
  {
   "cell_type": "code",
   "execution_count": 5,
   "metadata": {},
   "outputs": [
    {
     "data": {
      "text/plain": [
       "0.96"
      ]
     },
     "execution_count": 5,
     "metadata": {},
     "output_type": "execute_result"
    }
   ],
   "source": [
    "perm = np.random.permutation(iris.target.size)\n",
    "iris.data = iris.data[perm]\n",
    "iris.target = iris.target[perm]\n",
    "\n",
    "train_data = iris.data[:100]\n",
    "train_target = iris.target[:100]\n",
    "\n",
    "test_data = iris.data[100:]\n",
    "test_target = iris.target[100:]\n",
    "\n",
    "knn.fit(train_data, train_target) \n",
    "\n",
    "knn.score(test_data, test_target) "
   ]
  },
  {
   "cell_type": "markdown",
   "metadata": {},
   "source": [
    "### Bayesian classifier"
   ]
  },
  {
   "cell_type": "code",
   "execution_count": 6,
   "metadata": {},
   "outputs": [
    {
     "name": "stdout",
     "output_type": "stream",
     "text": [
      "Number of mislabeled points : 2\n"
     ]
    }
   ],
   "source": [
    "import sklearn.naive_bayes\n",
    "gnb = sklearn.naive_bayes.GaussianNB()\n",
    "gnb.fit(train_data, train_target)\n",
    "y_pred = gnb.predict(test_data)\n",
    "print(\"Number of mislabeled points : %d\" % (test_target != y_pred).sum())"
   ]
  },
  {
   "cell_type": "markdown",
   "metadata": {},
   "source": [
    "### SVM classifier"
   ]
  },
  {
   "cell_type": "code",
   "execution_count": 7,
   "metadata": {},
   "outputs": [
    {
     "name": "stdout",
     "output_type": "stream",
     "text": [
      "Number of mislabeled points : 2\n"
     ]
    },
    {
     "name": "stderr",
     "output_type": "stream",
     "text": [
      "c:\\python36\\lib\\site-packages\\sklearn\\svm\\base.py:193: FutureWarning: The default value of gamma will change from 'auto' to 'scale' in version 0.22 to account better for unscaled features. Set gamma explicitly to 'auto' or 'scale' to avoid this warning.\n",
      "  \"avoid this warning.\", FutureWarning)\n"
     ]
    }
   ],
   "source": [
    "from sklearn import svm\n",
    "svc = svm.SVC()\n",
    "svc.fit(train_data, train_target) \n",
    "y_pred = svc.predict(test_data)\n",
    "print(\"Number of mislabeled points : %d\" % (test_target != y_pred).sum())"
   ]
  },
  {
   "cell_type": "markdown",
   "metadata": {},
   "source": [
    "### Training data"
   ]
  },
  {
   "cell_type": "markdown",
   "metadata": {},
   "source": [
    "https://raw.githubusercontent.com/mjirik/ZDO/master/objekty/ctverce_hvezdy_kolecka.jpg"
   ]
  },
  {
   "cell_type": "markdown",
   "metadata": {},
   "source": [
    "### Testing data"
   ]
  },
  {
   "cell_type": "markdown",
   "metadata": {},
   "source": [
    "https://raw.githubusercontent.com/mjirik/ZDO/master/objekty/01.jpg\n",
    "    \n",
    "https://raw.githubusercontent.com/mjirik/ZDO/master/objekty/02.jpg\n",
    "    \n",
    "https://raw.githubusercontent.com/mjirik/ZDO/master/objekty/03.jpg\n",
    "    \n",
    "https://raw.githubusercontent.com/mjirik/ZDO/master/objekty/04.jpg\n",
    "    \n",
    "https://raw.githubusercontent.com/mjirik/ZDO/master/objekty/05.jpg\n",
    "    \n",
    "https://raw.githubusercontent.com/mjirik/ZDO/master/objekty/06.jpg\n",
    "    \n",
    "https://raw.githubusercontent.com/mjirik/ZDO/master/objekty/07.jpg\n",
    "    \n",
    "https://raw.githubusercontent.com/mjirik/ZDO/master/objekty/08.jpg\n",
    "    \n",
    "https://raw.githubusercontent.com/mjirik/ZDO/master/objekty/09.jpg\n",
    "    \n",
    "https://raw.githubusercontent.com/mjirik/ZDO/master/objekty/10.jpg\n",
    "    \n",
    "https://raw.githubusercontent.com/mjirik/ZDO/master/objekty/11.jpg\n",
    "    \n",
    "https://raw.githubusercontent.com/mjirik/ZDO/master/objekty/12.jpg\n",
    "    \n",
    "https://raw.githubusercontent.com/mjirik/ZDO/master/objekty/13.jpg\n",
    "    \n",
    "https://raw.githubusercontent.com/mjirik/ZDO/master/objekty/14.jpg\n",
    "    \n",
    "https://raw.githubusercontent.com/mjirik/ZDO/master/objekty/15.jpg\n",
    "    \n",
    "https://raw.githubusercontent.com/mjirik/ZDO/master/objekty/16.jpg\n",
    "    \n",
    "https://raw.githubusercontent.com/mjirik/ZDO/master/objekty/17.jpg"
   ]
  },
  {
   "cell_type": "code",
   "execution_count": 11,
   "metadata": {},
   "outputs": [
    {
     "name": "stderr",
     "output_type": "stream",
     "text": [
      "c:\\python36\\lib\\site-packages\\skimage\\io\\_io.py:48: UserWarning: `as_grey` has been deprecated in favor of `as_gray`\n",
      "  warn('`as_grey` has been deprecated in favor of `as_gray`')\n"
     ]
    },
    {
     "data": {
      "text/plain": [
       "<matplotlib.image.AxesImage at 0x21d51b5a4e0>"
      ]
     },
     "execution_count": 11,
     "metadata": {},
     "output_type": "execute_result"
    },
    {
     "data": {
      "image/png": "[encoded data removed]",
      "text/plain": [
       "<Figure size 432x288 with 1 Axes>"
      ]
     },
     "metadata": {
      "needs_background": "light"
     },
     "output_type": "display_data"
    }
   ],
   "source": [
    "import scipy\n",
    "import urllib\n",
    "import skimage\n",
    "import skimage.color\n",
    "import skimage.measure\n",
    "import skimage.io\n",
    "from sklearn import svm\n",
    "\n",
    "\n",
    "# URL = \"http://uc452cam01-kky.fav.zcu.cz/snapshot.jpg\"\n",
    "URL = \"https://raw.githubusercontent.com/mjirik/ZDO/master/objekty/ctverce_hvezdy_kolecka.jpg\"\n",
    "img = skimage.io.imread(URL, as_grey=True)\n",
    "plt.imshow(img)\n",
    "# doporučený klasifikátor ...\n",
    "# pozor na labeling a \"+1 problém\""
   ]
  },
  {
   "cell_type": "markdown",
   "metadata": {},
   "source": [
    "## Titanic "
   ]
  },
  {
   "cell_type": "markdown",
   "metadata": {},
   "source": [
    "https://www.kaggle.com/c/titanic"
   ]
  }
 ],
 "metadata": {
  "kernelspec": {
   "display_name": "Python 3",
   "language": "python",
   "name": "python3"
  },
  "language_info": {
   "codemirror_mode": {
    "name": "ipython",
    "version": 3
   },
   "file_extension": ".py",
   "mimetype": "text/x-python",
   "name": "python",
   "nbconvert_exporter": "python",
   "pygments_lexer": "ipython3",
   "version": "3.6.7"
  }
 },
 "nbformat": 4,
 "nbformat_minor": 2
}
