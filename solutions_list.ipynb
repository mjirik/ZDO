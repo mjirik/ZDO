{
 "metadata": {
  "name": ""
 },
 "nbformat": 3,
 "nbformat_minor": 0,
 "worksheets": [
  {
   "cells": [
    {
     "cell_type": "code",
     "collapsed": false,
     "input": [
      "#  [url, package name, public label]\n",
      "solutions_list = [\n",
      "    [\"https://raw.githubusercontent.com/mjirik/ZDO/master/ZDO2014sample_solution.py\", 'ZDO2014sample_solution', 'sample M. Jirik'],\n",
      "]"
     ],
     "language": "python",
     "metadata": {},
     "outputs": []
    }
   ],
   "metadata": {}
  }
 ]
}