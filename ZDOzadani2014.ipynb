{
 "metadata": {
  "name": ""
 },
 "nbformat": 3,
 "nbformat_minor": 0,
 "worksheets": [
  {
   "cells": [
    {
     "cell_type": "markdown",
     "metadata": {},
     "source": [
      "tr\u00e9novac\u00ed data naleznete na n\u00e1sleduj\u00edc\u00ed adrese\n",
      "http://147.228.240.61/zdo/\n",
      "\n",
      "\n",
      "![zn1](http://147.228.240.61/zdo/IS3d_id13277_ff7741-FL_1_131030_00067306-1.jpg)\n",
      "![zn2](http://147.228.240.61/zdo/P1_id13258_ff7546-FL_1_131030_00066180-1.jpg)\n",
      "![zn3](http://147.228.240.61/zdo/Z3_id18972_ff2347-FL_1_131030_00020439.jpg)\n",
      "![zn3](http://147.228.240.61/zdo/P2_id14368_ff74-FL_1_131030_00002530.jpg)"
     ]
    },
    {
     "cell_type": "code",
     "collapsed": false,
     "input": [
      "class Znacky:\n",
      "    \"\"\"\n",
      "    M. Ji\u0159\u00edk\n",
      "    I. Pirner\n",
      "    P. Zimmermann\n",
      "    \n",
      "    Takto bude vytvo\u0159eno va\u0161e \u0159e\u0161en\u00ed. Mus\u00ed obsahovat funkci 'rozpoznejZnacku()', \n",
      "    kter\u00e1 m\u00e1 jeden vstupn\u00ed parametr. T\u00edm je obraz. Doba trv\u00e1n\u00e1 funkce je \n",
      "    omezena na 1 sekundu.\n",
      "    \"\"\"\n",
      "    def __init__(self):\n",
      "        # Na\u010d\u00edt\u00e1n\u00ed natr\u00e9novan\u00fdch parametr\u016f klasifik\u00e1toru ze souboru atd.\n",
      "        pass\n",
      "    \n",
      "    def rozpoznejZnacku(self, image):\n",
      "        \n",
      "        # N\u011bjak\u00fd moc chytr\u00fd k\u00f3d\n",
      "        if image.shape[0] > 10:\n",
      "            retval = 'P2'\n",
      "        else:\n",
      "            retval = 'C4a'\n",
      "        \n",
      "        return retval"
     ],
     "language": "python",
     "metadata": {},
     "outputs": [],
     "prompt_number": 30
    },
    {
     "cell_type": "code",
     "collapsed": false,
     "input": [
      "import glob\n",
      "import os\n",
      "\n",
      "# nacitani z adresare\n",
      "def readImageDir(path):\n",
      "    dirs = glob.glob(os.path.join(os.path.normpath(path) ,'*'))\n",
      "    labels = []\n",
      "    files = []\n",
      "    for onedir in dirs:\n",
      "        #print onedir\n",
      "        base, lab = os.path.split(onedir)\n",
      "        if os.path.isdir(onedir):\n",
      "            filesInDir = glob.glob(os.path.join(onedir, '*'))\n",
      "            for onefile in filesInDir:\n",
      "                labels.append(lab)\n",
      "                files.append(onefile)\n",
      "        \n",
      "    return files, labels\n",
      "    \n",
      "\n",
      "files, labels = readImageDir('/home/mjirik/data/zdo2014/zdo2014-training/')\n",
      "print \"pocet souboru \", len(files)\n",
      "print 'prvnich 10 souboru \\n', files[0:10]\n",
      "print 'prvnich 10 labelu \\n', labels[0:10]"
     ],
     "language": "python",
     "metadata": {},
     "outputs": [
      {
       "output_type": "stream",
       "stream": "stdout",
       "text": [
        "pocet souboru  17055\n",
        "prvnich 10 souboru \n",
        "['/home/mjirik/data/zdo2014/zdo2014-training/E4/E4_id24095_ff14882-131030_00098832-3.jpg', '/home/mjirik/data/zdo2014/zdo2014-training/E4/E4_id24095_ff14888-131030_00098861-1.jpg', '/home/mjirik/data/zdo2014/zdo2014-training/E4/E4_id24082_ff23056-131031_00160483-1.jpg', '/home/mjirik/data/zdo2014/zdo2014-training/E4/E4_id19160_ff4725-FL_1_131030_00045001.jpg', '/home/mjirik/data/zdo2014/zdo2014-training/E4/E4_id24205_ff25609-131031_00182813-1.jpg', '/home/mjirik/data/zdo2014/zdo2014-training/E4/E4_id24456_ff423-fr2-131031_00004104-3.jpg', '/home/mjirik/data/zdo2014/zdo2014-training/E4/E4_id25194_ff22019-fr2-131031_00132431.jpg', '/home/mjirik/data/zdo2014/zdo2014-training/E4/E4_id19258_ff5580-FL_1_131030_00051919-1.jpg', '/home/mjirik/data/zdo2014/zdo2014-training/E4/E4_id24082_ff23058-131031_00160493-1.jpg', '/home/mjirik/data/zdo2014/zdo2014-training/E4/E4_id19181_ff6410-131030_00059213-1.jpg']\n",
        "prvnich 10 labelu \n",
        "['E4', 'E4', 'E4', 'E4', 'E4', 'E4', 'E4', 'E4', 'E4', 'E4']\n"
       ]
      }
     ],
     "prompt_number": 31
    },
    {
     "cell_type": "code",
     "collapsed": false,
     "input": [
      "\n",
      "# Kontrola bude prob\u00edha takto\n",
      "#\n",
      "\n",
      "import signal\n",
      "from contextlib import contextmanager\n",
      "import skimage\n",
      "import skimage.io\n",
      "import numpy as np\n",
      "\n",
      "class TimeoutException(Exception): pass\n",
      "\n",
      "@contextmanager\n",
      "def time_limit(seconds):\n",
      "    def signal_handler(signum, frame):\n",
      "        raise TimeoutException, \"Timed out!\"\n",
      "    signal.signal(signal.SIGALRM, signal_handler)\n",
      "    signal.alarm(seconds)\n",
      "    try:\n",
      "        yield\n",
      "    finally:\n",
      "        signal.alarm(0)\n",
      "\n",
      "       \n",
      "def kontrola(ukazatel):\n",
      "    studentske_reseni = ukazatel() # tim je zavol\u00e1n v\u00e1\u0161 konstruktor __init__\n",
      "    \n",
      "    \n",
      "    obrazky = ['http://147.228.240.61/zdo/P2_id14368_ff74-FL_1_131030_00002530.jpg',\n",
      "             'http://147.228.240.61/zdo/Z3_id18972_ff2347-FL_1_131030_00020439.jpg',\n",
      "             'http://147.228.240.61/zdo/P1_id13258_ff7546-FL_1_131030_00066180-1.jpg'\n",
      "             ]\n",
      "    reseni = ['P2', 'Z3', 'P1']\n",
      "    \n",
      "    vysledky = []\n",
      "    \n",
      "    for i in range(0, len(obrazky)):\n",
      "        im = skimage.io.imread(obrazky[i])\n",
      "    \n",
      "        \n",
      "        \n",
      "        # Zde je vol\u00e1na va\u0161e funkce rozpoznejZnacku\n",
      "        try:\n",
      "            with time_limit(1):\n",
      "                result = studentske_reseni.rozpoznejZnacku(im)\n",
      "        except TimeoutException, msg:\n",
      "            print \"Timed out!\"\n",
      "            result = None\n",
      "            \n",
      "        vysledky.append(result)\n",
      "        \n",
      "    \n",
      "    #print vysledky\n",
      "    hodnoceni = np.array(reseni) == np.array(vysledky)\n",
      "    \n",
      "    \n",
      "    skore = np.sum(hodnoceni.astype(np.int)) / np.float(len(reseni))\n",
      "    \n",
      "    print skore\n"
     ],
     "language": "python",
     "metadata": {},
     "outputs": [],
     "prompt_number": 32
    },
    {
     "cell_type": "code",
     "collapsed": false,
     "input": [
      "ukazatel = Skupina1\n",
      "kontrola(ukazatel)"
     ],
     "language": "python",
     "metadata": {},
     "outputs": [
      {
       "output_type": "stream",
       "stream": "stdout",
       "text": [
        "0.333333333333\n"
       ]
      }
     ],
     "prompt_number": 33
    }
   ],
   "metadata": {}
  }
 ]
}