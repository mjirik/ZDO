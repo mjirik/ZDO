{
 "metadata": {
  "name": ""
 },
 "nbformat": 3,
 "nbformat_minor": 0,
 "worksheets": [
  {
   "cells": [
    {
     "cell_type": "markdown",
     "metadata": {},
     "source": [
      "tr\u00e9novac\u00ed data naleznete na n\u00e1sleduj\u00edc\u00ed adrese\n",
      "http://147.228.240.61/zdo/\n",
      "\n",
      "\n",
      "![zn1](http://147.228.240.61/zdo/IS3d_id13277_ff7741-FL_1_131030_00067306-1.jpg)\n",
      "![zn2](http://147.228.240.61/zdo/P1_id13258_ff7546-FL_1_131030_00066180-1.jpg)\n",
      "![zn3](http://147.228.240.61/zdo/Z3_id18972_ff2347-FL_1_131030_00020439.jpg)\n",
      "![zn3](http://147.228.240.61/zdo/P2_id14368_ff74-FL_1_131030_00002530.jpg)"
     ]
    },
    {
     "cell_type": "code",
     "collapsed": false,
     "input": [
      "class Skupina1:\n",
      "    \"\"\"\n",
      "    M. Ji\u0159\u00edk\n",
      "    I. Pirner\n",
      "    P. Zimmermann\n",
      "    \n",
      "    Takto bude vytvo\u0159eno va\u0161e \u0159e\u0161en\u00ed. Mus\u00ed obsahovat funkci 'rozpoznejZnacku()', \n",
      "    kter\u00e1 m\u00e1 jeden vstupn\u00ed parametr. T\u00edm je obraz. Doba trv\u00e1n\u00e1 funkce je \n",
      "    omezena na 1 sekundu.\n",
      "    \"\"\"\n",
      "    def __init__(self):\n",
      "        # Na\u010d\u00edt\u00e1n\u00ed natr\u00e9novan\u00fdch parametr\u016f klasifik\u00e1toru ze souboru atd.\n",
      "        pass\n",
      "    \n",
      "    def rozpoznejZnacku(self, image):\n",
      "        \n",
      "        # N\u011bjak\u00fd moc chytr\u00fd k\u00f3d\n",
      "        if image.shape[0] > 10:\n",
      "            retval = 'P2'\n",
      "        else:\n",
      "            retval = 'C4a'\n",
      "        \n",
      "        return retval"
     ],
     "language": "python",
     "metadata": {},
     "outputs": [],
     "prompt_number": 28
    },
    {
     "cell_type": "code",
     "collapsed": false,
     "input": [
      "\n",
      "# Kontrola bude prob\u00edha takto\n",
      "#\n",
      "\n",
      "import signal\n",
      "from contextlib import contextmanager\n",
      "import skimage\n",
      "import skimage.io\n",
      "import numpy as np\n",
      "\n",
      "class TimeoutException(Exception): pass\n",
      "\n",
      "@contextmanager\n",
      "def time_limit(seconds):\n",
      "    def signal_handler(signum, frame):\n",
      "        raise TimeoutException, \"Timed out!\"\n",
      "    signal.signal(signal.SIGALRM, signal_handler)\n",
      "    signal.alarm(seconds)\n",
      "    try:\n",
      "        yield\n",
      "    finally:\n",
      "        signal.alarm(0)\n",
      "\n",
      "       \n",
      "def kontrola(ukazatel):\n",
      "    studentske_reseni = ukazatel() # tim je zavol\u00e1n v\u00e1\u0161 konstruktor __init__\n",
      "    \n",
      "    \n",
      "    obrazky = ['http://147.228.240.61/zdo/P2_id14368_ff74-FL_1_131030_00002530.jpg',\n",
      "             'http://147.228.240.61/zdo/Z3_id18972_ff2347-FL_1_131030_00020439.jpg',\n",
      "             'http://147.228.240.61/zdo/P1_id13258_ff7546-FL_1_131030_00066180-1.jpg'\n",
      "             ]\n",
      "    reseni = ['P2', 'Z3', 'P1']\n",
      "    \n",
      "    vysledky = []\n",
      "    \n",
      "    for i in range(0, len(obrazky)):\n",
      "        im = skimage.io.imread(obrazky[0])\n",
      "    \n",
      "        \n",
      "        \n",
      "        # Zde je vol\u00e1na va\u0161e funkce rozpoznejZnacku\n",
      "        try:\n",
      "            with time_limit(1):\n",
      "                result = studentske_reseni.rozpoznejZnacku(im)\n",
      "        except TimeoutException, msg:\n",
      "            print \"Timed out!\"\n",
      "            result = None\n",
      "            \n",
      "        vysledky.append(result)\n",
      "        \n",
      "    \n",
      "    #print vysledky\n",
      "    hodnoceni = np.array(reseni) == np.array(vysledky)\n",
      "    \n",
      "    \n",
      "    skore = np.sum(hodnoceni.astype(np.int)) / np.float(len(reseni))\n",
      "    \n",
      "    print skore\n"
     ],
     "language": "python",
     "metadata": {},
     "outputs": [],
     "prompt_number": 30
    },
    {
     "cell_type": "code",
     "collapsed": false,
     "input": [
      "ukazatel = Skupina1\n",
      "kontrola(ukazatel)"
     ],
     "language": "python",
     "metadata": {},
     "outputs": [
      {
       "output_type": "stream",
       "stream": "stdout",
       "text": [
        "0.333333333333\n"
       ]
      }
     ],
     "prompt_number": 32
    }
   ],
   "metadata": {}
  }
 ]
}