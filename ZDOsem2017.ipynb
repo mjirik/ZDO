{
 "cells": [
  {
   "cell_type": "markdown",
   "metadata": {},
   "source": [
    "# Semestrální práce 2017\n",
    "\n",
    "## Detekce stavu ve hře hearthstones\n",
    "\n",
    "Cílem této semestrální práce je vytvořit funkční program sloužící k vyhodnocení stavu bojiště ve hře Hearthstone s využitím obrazových dat. \n",
    "\n",
    "Specifikace\n",
    "\n",
    "* Vstupem algoritmu bude screenshot ze hry z PC platformy\n",
    "* Výstupem bude vypsání jednotlivých skutečností (viz požadavky) s možností vypsání do příkazové řádky i do souboru\n",
    "\n",
    "Požadavky\n",
    "\n",
    "* Počet minionů na stole (pro každého hráče zvlášť)\n",
    "* Které classy proti sobě hrají\n",
    "* Počet karet na ruce jednotlivých hráčů\n",
    "* Počet životů jednotlivých hráčů\n",
    "* Bonus: Vypsání hodnot útoku a životů jednotlivých minionů na stole\n",
    "* Bonus2: Vypsání kolikáté je kolo (u vyššího než desátého vypsat 10) a zda je na tahu protihráč nebo my\n",
    "\n",
    "![alt text](graphics/hearthstone1.png \"Logo Title Text 1\")\n",
    "\n",
    "\n",
    "## Měření výšky postavy\n",
    "\n",
    "\n",
    "Odhad výšky postavy z kamery. Předpokládané kroky řešení jsou:\n",
    "\n",
    "* detekce [úběžníků](http://www.tutoriarts.cz/zaklady-kresleni-6-dil-perspektiva-1001)\n",
    "* kalibrace prostřednictvím známého obrazce (např. známá velikost dlaždice, případně jiný kalibrační obrazec)\n",
    "* detekce postavy\n",
    "* segmentace postavy\n",
    "* odhad výšky\n",
    "\n",
    "[![ubeznik](http://img.tutoriarts.cz/b105/kresleni6/6_4.jpg)](http://www.tutoriarts.cz/zaklady-kresleni-6-dil-perspektiva-1001)\n"
   ]
  }
 ],
 "metadata": {
  "kernelspec": {
   "display_name": "Python 2",
   "language": "python",
   "name": "python2"
  },
  "language_info": {
   "codemirror_mode": {
    "name": "ipython",
    "version": 2
   },
   "file_extension": ".py",
   "mimetype": "text/x-python",
   "name": "python",
   "nbconvert_exporter": "python",
   "pygments_lexer": "ipython2",
   "version": "2.7.11"
  }
 },
 "nbformat": 4,
 "nbformat_minor": 0
}
