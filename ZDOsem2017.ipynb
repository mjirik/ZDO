{
 "cells": [
  {
   "cell_type": "markdown",
   "metadata": {},
   "source": [
    "# Semestrální práce 2017\n",
    "\n",
    "## Detekce stavu ve hře hearthstones\n",
    "\n",
    "Cílem této semestrální práce je vytvořit funkční program sloužící k vyhodnocení stavu bojiště ve hře Hearthstone s využitím obrazových dat. \n",
    "\n",
    "Specifikace\n",
    "\n",
    "* Vstupem algoritmu bude screenshot ze hry z PC platformy\n",
    "* Výstupem bude vypsání jednotlivých skutečností (viz požadavky) s možností vypsání do příkazové řádky i do souboru\n",
    "\n",
    "Požadavky\n",
    "\n",
    "* Počet minionů na stole (pro každého hráče zvlášť)\n",
    "* Které classy proti sobě hrají\n",
    "* Počet karet na ruce jednotlivých hráčů\n",
    "* Počet životů jednotlivých hráčů\n",
    "* Bonus: Vypsání hodnot útoku a životů jednotlivých minionů na stole\n",
    "* Bonus2: Vypsání kolikáté je kolo (u vyššího než desátého vypsat 10) a zda je na tahu protihráč nebo my\n",
    "\n",
    "![alt text](graphics/hearthstone1.png \"Logo Title Text 1\")\n",
    "\n",
    "\n",
    "## Měření výšky postavy\n",
    "\n",
    "\n",
    "Odhad výšky postavy z kamery. Předpokládané kroky řešení jsou:\n",
    "\n",
    "* detekce [úběžníků](http://www.tutoriarts.cz/zaklady-kresleni-6-dil-perspektiva-1001)\n",
    "* kalibrace prostřednictvím známého obrazce (např. známá velikost dlaždice, případně jiný kalibrační obrazec)\n",
    "* detekce postavy\n",
    "* segmentace postavy\n",
    "* odhad výšky\n",
    "\n",
    "[![ubeznik](http://img.tutoriarts.cz/b105/kresleni6/6_4.jpg)](http://www.tutoriarts.cz/zaklady-kresleni-6-dil-perspektiva-1001)\n"
   ]
  }
 ],
 "metadata": {
  "kernelspec": {
   "display_name": "Python 3",
   "language": "python",
   "name": "python3"
  },
  "language_info": {
   "codemirror_mode": {
    "name": "ipython",
    "version": 3
   },
   "file_extension": ".py",
   "mimetype": "text/x-python",
   "name": "python",
   "nbconvert_exporter": "python",
   "pygments_lexer": "ipython3",
   "version": "3.6.6"
  },
  "toc": {
   "base_numbering": 1,
   "nav_menu": {},
   "number_sections": true,
   "sideBar": true,
   "skip_h1_title": false,
   "title_cell": "Table of Contents",
   "title_sidebar": "Contents",
   "toc_cell": false,
   "toc_position": {},
   "toc_section_display": true,
   "toc_window_display": true
  }
 },
 "nbformat": 4,
 "nbformat_minor": 1
}
