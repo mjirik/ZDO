{
 "metadata": {
  "name": "ZDOcv7"
 }, 
 "name": "ZDOcv7", 
 "nbformat": 2, 
 "worksheets": [
  {
   "cells": [
    {
     "cell_type": "code", 
     "collapsed": false, 
     "input": "%pylab inline\n# Zpracov\u00e1n\u00ed digitalizovan\u00e9ho obrazu\n# ==================================\n# \n#\n\n\n\n#Importy\nfrom matplotlib import pyplot as plt\n\n\n# Prahov\u00e1n\u00ed\n\nfrom skimage import data\nfrom skimage import filter\ncamera = data.camera()\nval = filter.threshold_otsu(camera)\nmask = camera < val\n\nplt.imshow(mask)\nplt.show()\n\n#import IPython\n# dir(IPython.lib)\n#dir(IPython.core.display_trap)\n#from IPython.display import Image\n#Image(url='http://octodex.github.com/images/pythocat.png')", 
     "language": "python", 
     "outputs": [
      {
       "output_type": "stream", 
       "stream": "stdout", 
       "text": "\nWelcome to pylab, a matplotlib-based Python environment [backend: module://IPython.zmq.pylab.backend_inline].\nFor more information, type 'help(pylab)'."
      }
     ], 
     "prompt_number": 25
    }, 
    {
     "cell_type": "code", 
     "collapsed": true, 
     "input": "", 
     "language": "python", 
     "outputs": []
    }
   ]
  }
 ]
}