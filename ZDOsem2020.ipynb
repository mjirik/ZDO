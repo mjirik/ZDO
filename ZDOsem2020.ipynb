{
 "cells": [
  {
   "cell_type": "markdown",
   "metadata": {},
   "source": [
    "# ZDO zadání 2020\n",
    "\n",
    "Navrhněte a naprogramujte nástroj pro měření pohybu zvířat v boxech.\n",
    "Cílem je naměřit počet metrů, které zvíře ujde v určitém čase. Polohu zvířat zaznamenávejte v metrech, čas v sekundách."
   ]
  },
  {
   "cell_type": "code",
   "execution_count": 88,
   "metadata": {},
   "outputs": [
    {
     "name": "stdout",
     "output_type": "stream",
     "text": [
      "Populating the interactive namespace from numpy and matplotlib\n"
     ]
    },
    {
     "name": "stderr",
     "output_type": "stream",
     "text": [
      "C:\\Users\\Jirik\\Miniconda3\\envs\\scaffan\\lib\\site-packages\\IPython\\core\\magics\\pylab.py:160: UserWarning: pylab import has clobbered these variables: ['step', 'imread']\n",
      "`%matplotlib` prevents importing * from pylab and numpy\n",
      "  \"\\n`%matplotlib` prevents importing * from pylab and numpy\"\n"
     ]
    }
   ],
   "source": [
    "%pylab inline\n",
    "import skimage\n",
    "from skimage.io import imread\n",
    "import cv2\n",
    "from pathlib import Path\n",
    "import pandas as pd\n",
    "import seaborn as sns"
   ]
  },
  {
   "cell_type": "code",
   "execution_count": 74,
   "metadata": {},
   "outputs": [],
   "source": [
    "\n",
    "# imread()\n",
    "\n",
    "pth = Path('~/Downloads/zverinec02-006.mp4').expanduser()\n",
    "cap = cv2.VideoCapture(str(pth))\n",
    "# prostor pro inicializaci"
   ]
  },
  {
   "cell_type": "code",
   "execution_count": 75,
   "metadata": {},
   "outputs": [
    {
     "data": {
      "text/plain": [
       "<matplotlib.image.AxesImage at 0x24731af62b0>"
      ]
     },
     "execution_count": 75,
     "metadata": {},
     "output_type": "execute_result"
    }
   ],
   "source": [
    "ret, frame = cap.read()\n",
    "plt.imshow(frame)"
   ]
  },
  {
   "cell_type": "code",
   "execution_count": 76,
   "metadata": {},
   "outputs": [
    {
     "name": "stdout",
     "output_type": "stream",
     "text": [
      "amount_of_frames=1293.0\n"
     ]
    }
   ],
   "source": [
    "step = 25 # read every 10th step\n",
    "\n",
    "cap = cv2.VideoCapture(str(pth))\n",
    "frames = []\n",
    "amount_of_frames = cap.get(cv2.CAP_PROP_FRAME_COUNT)\n",
    "print(f\"amount_of_frames={amount_of_frames}\")\n",
    "\n",
    "for frame_number in range(0, int(amount_of_frames), step):\n",
    "    cap.set(cv2.CAP_PROP_POS_FRAMES, int(frame_number-1))\n",
    "    res, frame = cap.read()\n",
    "    frames.append(frame)\n",
    "cap.release()\n",
    "cv2.destroyAllWindows()"
   ]
  },
  {
   "cell_type": "code",
   "execution_count": 40,
   "metadata": {},
   "outputs": [],
   "source": [
    "# # Alternative reading\n",
    "# while(cap.isOpened()):\n",
    "#     ret, frame = cap.read()\n",
    "#     # gray = cv2.cvtColor(frame, cv2.COLOR_BGR2GRAY)\n",
    "#     # zde místo pro práci s každým snímkem\n",
    "#     # cv2.imshow('frame',gray)\n",
    "#     if cv2.waitKey(1) & 0xFF == ord('q'):\n",
    "#         break\n",
    "# cap.release()\n",
    "# cv2.destroyAllWindows()"
   ]
  },
  {
   "cell_type": "markdown",
   "metadata": {},
   "source": [
    "# Anotace\n",
    "\n",
    "* Pozice prasete je dána bodem mezi předníma nohama na spojnici ramen zvířete.\n",
    "* Dodržujte ID zvířete. Na všech framech musí být první zvíře vždy označováno jako první.\n",
    "* Výstup je v XLSX formátu, případně v CSV\n",
    "* Pravým tlačítkem myši lze bod odebrat\n",
    "* Prostředním tlačítkem myši se ukončuje zadávání a dojde ke zobrazení dalšího snímku\n",
    "\n",
    "## Ukázka na jednom snímku"
   ]
  },
  {
   "cell_type": "code",
   "execution_count": 77,
   "metadata": {},
   "outputs": [
    {
     "data": {
      "text/plain": [
       "[]"
      ]
     },
     "execution_count": 77,
     "metadata": {},
     "output_type": "execute_result"
    }
   ],
   "source": [
    "%matplotlib qt\n",
    "plt.figure(figsize=[15,10])\n",
    "plt.imshow(frame)\n",
    "points = plt.ginput(-1)\n",
    "points"
   ]
  },
  {
   "cell_type": "code",
   "execution_count": 60,
   "metadata": {},
   "outputs": [
    {
     "data": {
      "text/plain": [
       "('C:\\\\', 'Users', 'Jirik', 'Downloads', 'zverinec02-005.mp4')"
      ]
     },
     "execution_count": 60,
     "metadata": {},
     "output_type": "execute_result"
    }
   ],
   "source": [
    "pth.parts[-1]"
   ]
  },
  {
   "cell_type": "markdown",
   "metadata": {},
   "source": [
    "## Anotace celého videa"
   ]
  },
  {
   "cell_type": "code",
   "execution_count": 85,
   "metadata": {},
   "outputs": [
    {
     "data": {
      "text/html": [
       "<div>\n",
       "<style scoped>\n",
       "    .dataframe tbody tr th:only-of-type {\n",
       "        vertical-align: middle;\n",
       "    }\n",
       "\n",
       "    .dataframe tbody tr th {\n",
       "        vertical-align: top;\n",
       "    }\n",
       "\n",
       "    .dataframe thead th {\n",
       "        text-align: right;\n",
       "    }\n",
       "</style>\n",
       "<table border=\"1\" class=\"dataframe\">\n",
       "  <thead>\n",
       "    <tr style=\"text-align: right;\">\n",
       "      <th></th>\n",
       "      <th>filename</th>\n",
       "      <th>frame_id</th>\n",
       "      <th>animal_id</th>\n",
       "      <th>x_px</th>\n",
       "      <th>y_px</th>\n",
       "      <th>annotation_timestamp</th>\n",
       "    </tr>\n",
       "  </thead>\n",
       "  <tbody>\n",
       "    <tr>\n",
       "      <th>0</th>\n",
       "      <td>zverinec02-006.mp4</td>\n",
       "      <td>0</td>\n",
       "      <td>0</td>\n",
       "      <td>458.281362</td>\n",
       "      <td>415.769534</td>\n",
       "      <td>2020-03-18 18:39:55.207252</td>\n",
       "    </tr>\n",
       "    <tr>\n",
       "      <th>1</th>\n",
       "      <td>zverinec02-006.mp4</td>\n",
       "      <td>50</td>\n",
       "      <td>0</td>\n",
       "      <td>462.869176</td>\n",
       "      <td>415.769534</td>\n",
       "      <td>2020-03-18 18:40:33.730191</td>\n",
       "    </tr>\n",
       "    <tr>\n",
       "      <th>2</th>\n",
       "      <td>zverinec02-006.mp4</td>\n",
       "      <td>50</td>\n",
       "      <td>1</td>\n",
       "      <td>433.813023</td>\n",
       "      <td>489.174552</td>\n",
       "      <td>2020-03-18 18:40:33.730191</td>\n",
       "    </tr>\n",
       "    <tr>\n",
       "      <th>3</th>\n",
       "      <td>zverinec02-006.mp4</td>\n",
       "      <td>75</td>\n",
       "      <td>0</td>\n",
       "      <td>468.986260</td>\n",
       "      <td>411.181720</td>\n",
       "      <td>2020-03-18 18:40:36.832799</td>\n",
       "    </tr>\n",
       "    <tr>\n",
       "      <th>4</th>\n",
       "      <td>zverinec02-006.mp4</td>\n",
       "      <td>75</td>\n",
       "      <td>1</td>\n",
       "      <td>484.278973</td>\n",
       "      <td>493.762366</td>\n",
       "      <td>2020-03-18 18:40:36.832799</td>\n",
       "    </tr>\n",
       "    <tr>\n",
       "      <th>5</th>\n",
       "      <td>zverinec02-006.mp4</td>\n",
       "      <td>100</td>\n",
       "      <td>0</td>\n",
       "      <td>468.986260</td>\n",
       "      <td>417.298805</td>\n",
       "      <td>2020-03-18 18:40:40.028756</td>\n",
       "    </tr>\n",
       "    <tr>\n",
       "      <th>6</th>\n",
       "      <td>zverinec02-006.mp4</td>\n",
       "      <td>100</td>\n",
       "      <td>1</td>\n",
       "      <td>479.691159</td>\n",
       "      <td>492.233094</td>\n",
       "      <td>2020-03-18 18:40:40.028756</td>\n",
       "    </tr>\n",
       "    <tr>\n",
       "      <th>7</th>\n",
       "      <td>zverinec02-006.mp4</td>\n",
       "      <td>125</td>\n",
       "      <td>0</td>\n",
       "      <td>468.986260</td>\n",
       "      <td>414.240263</td>\n",
       "      <td>2020-03-18 18:40:43.502014</td>\n",
       "    </tr>\n",
       "    <tr>\n",
       "      <th>8</th>\n",
       "      <td>zverinec02-006.mp4</td>\n",
       "      <td>125</td>\n",
       "      <td>1</td>\n",
       "      <td>482.749701</td>\n",
       "      <td>493.762366</td>\n",
       "      <td>2020-03-18 18:40:43.502014</td>\n",
       "    </tr>\n",
       "  </tbody>\n",
       "</table>\n",
       "</div>"
      ],
      "text/plain": [
       "             filename  frame_id  animal_id        x_px        y_px  \\\n",
       "0  zverinec02-006.mp4         0          0  458.281362  415.769534   \n",
       "1  zverinec02-006.mp4        50          0  462.869176  415.769534   \n",
       "2  zverinec02-006.mp4        50          1  433.813023  489.174552   \n",
       "3  zverinec02-006.mp4        75          0  468.986260  411.181720   \n",
       "4  zverinec02-006.mp4        75          1  484.278973  493.762366   \n",
       "5  zverinec02-006.mp4       100          0  468.986260  417.298805   \n",
       "6  zverinec02-006.mp4       100          1  479.691159  492.233094   \n",
       "7  zverinec02-006.mp4       125          0  468.986260  414.240263   \n",
       "8  zverinec02-006.mp4       125          1  482.749701  493.762366   \n",
       "\n",
       "         annotation_timestamp  \n",
       "0  2020-03-18 18:39:55.207252  \n",
       "1  2020-03-18 18:40:33.730191  \n",
       "2  2020-03-18 18:40:33.730191  \n",
       "3  2020-03-18 18:40:36.832799  \n",
       "4  2020-03-18 18:40:36.832799  \n",
       "5  2020-03-18 18:40:40.028756  \n",
       "6  2020-03-18 18:40:40.028756  \n",
       "7  2020-03-18 18:40:43.502014  \n",
       "8  2020-03-18 18:40:43.502014  "
      ]
     },
     "execution_count": 85,
     "metadata": {},
     "output_type": "execute_result"
    }
   ],
   "source": [
    "%matplotlib qt\n",
    "annotation={\n",
    "    \"filename\": [], # pth.parts[-1]\n",
    "    \"frame_id\": [],\n",
    "    \"animal_id\": [],\n",
    "    \"x_px\": [],\n",
    "    \"y_px\": [],\n",
    "    \"annotation_timestamp\": [],\n",
    "}\n",
    "plt.figure(figsize=[15,10])\n",
    "for i, frame in enumerate(frames[3:9]):\n",
    "    plt.imshow(frame)\n",
    "    plt.draw()\n",
    "    points = plt.ginput(-1)\n",
    "    \n",
    "    for j, point in enumerate(points):\n",
    "        annotation[\"filename\"].append(pth.parts[-1])\n",
    "        annotation[\"frame_id\"].append(i * step)\n",
    "        annotation[\"animal_id\"].append(j)\n",
    "        annotation[\"x_px\"].append(point[0])\n",
    "        annotation[\"y_px\"].append(point[1])\n",
    "        annotation[\"annotation_timestamp\"].append(str(pd.Timestamp.now()))\n",
    "        \n",
    "df_one_video = pd.DataFrame(annotation) \n",
    "df_one_video"
   ]
  },
  {
   "cell_type": "markdown",
   "metadata": {},
   "source": [
    "## Vizualizace pomocí `seaborn`"
   ]
  },
  {
   "cell_type": "code",
   "execution_count": 91,
   "metadata": {},
   "outputs": [
    {
     "data": {
      "text/plain": [
       "<matplotlib.axes._subplots.AxesSubplot at 0x247324759b0>"
      ]
     },
     "execution_count": 91,
     "metadata": {},
     "output_type": "execute_result"
    },
    {
     "data": {
      "image/png": "[encoded data removed]",
      "text/plain": [
       "<Figure size 432x288 with 1 Axes>"
      ]
     },
     "metadata": {
      "needs_background": "light"
     },
     "output_type": "display_data"
    }
   ],
   "source": [
    "sns.lineplot(data=df_one_video, x=\"x_px\", y=\"y_px\",hue=\"animal_id\")"
   ]
  },
  {
   "cell_type": "code",
   "execution_count": 72,
   "metadata": {},
   "outputs": [
    {
     "data": {
      "text/plain": [
       "{'filename': 'zverinec02-005.mp4',\n",
       " 'frame_id': 100,\n",
       " 'animal_id': 1,\n",
       " 'x_px': [],\n",
       " 'y_px': [],\n",
       " 'x': 524.0400238948625,\n",
       " 'y': 437.17933094384705}"
      ]
     },
     "execution_count": 72,
     "metadata": {},
     "output_type": "execute_result"
    }
   ],
   "source": [
    "annotation"
   ]
  },
  {
   "cell_type": "markdown",
   "metadata": {},
   "source": [
    " ## Uložení do souboru"
   ]
  },
  {
   "cell_type": "code",
   "execution_count": 69,
   "metadata": {},
   "outputs": [],
   "source": [
    "ann_fn = Path(\"annotation.xlsx\")\n",
    "sheet_name = \"Sheet1\"\n",
    "if ann_fn.exists():\n",
    "    dfold = pd.read_excel(str(ann_fn), sheet_name=sheet_name)\n",
    "        # dfout = pd.concat([dfin, df], axis=0, ignore_index=True)\n",
    "    dfcombine = dfold.append(df_one_video, ignore_index=True, sort=True)\n",
    "    dfcombine.to_excel(str(ann_fn), sheet_name=sheet_name, index=False)\n",
    "else:\n",
    "    df_one_video.to_excel(ann_fn, index=False, sheet_name=sheet_name)\n",
    "    "
   ]
  },
  {
   "cell_type": "code",
   "execution_count": 82,
   "metadata": {},
   "outputs": [
    {
     "data": {
      "text/plain": [
       "'2020-03-18 18:33:54.220918'"
      ]
     },
     "execution_count": 82,
     "metadata": {},
     "output_type": "execute_result"
    }
   ],
   "source": []
  },
  {
   "cell_type": "markdown",
   "metadata": {},
   "source": [
    "# Návrh\n",
    "\n",
    "* Limity\n",
    "* Požadované vstupy\n",
    "* Návrh API"
   ]
  }
 ],
 "metadata": {
  "kernelspec": {
   "display_name": "Python 3",
   "language": "python",
   "name": "python3"
  },
  "language_info": {
   "codemirror_mode": {
    "name": "ipython",
    "version": 3
   },
   "file_extension": ".py",
   "mimetype": "text/x-python",
   "name": "python",
   "nbconvert_exporter": "python",
   "pygments_lexer": "ipython3",
   "version": "3.6.6"
  },
  "toc": {
   "base_numbering": 1,
   "nav_menu": {},
   "number_sections": true,
   "sideBar": true,
   "skip_h1_title": false,
   "title_cell": "Table of Contents",
   "title_sidebar": "Contents",
   "toc_cell": false,
   "toc_position": {},
   "toc_section_display": true,
   "toc_window_display": true
  }
 },
 "nbformat": 4,
 "nbformat_minor": 2
}
